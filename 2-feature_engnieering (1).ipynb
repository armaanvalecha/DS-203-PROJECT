{
 "cells": [
  {
   "cell_type": "code",
   "execution_count": 8,
   "metadata": {},
   "outputs": [],
   "source": [
    "import numpy as np\n",
    "import pandas as pd\n",
    "from scipy.stats import skew, kurtosis, entropy\n",
    "from scipy.signal import find_peaks, welch, cwt, ricker\n",
    "from scipy.spatial.distance import pdist, squareform\n",
    "from statsmodels.tsa.stattools import acf\n",
    "import os\n",
    "import pywt"
   ]
  },
  {
   "cell_type": "code",
   "execution_count": 11,
   "metadata": {},
   "outputs": [],
   "source": [
    "\n",
    "def extract_melodic_progression_features(mfcc_matrix):\n",
    "    features = []\n",
    "    names = []\n",
    "    \n",
    "    widths = np.arange(1, 20)\n",
    "    wavelet = 'gaus1'\n",
    "    for i in range(3):  # Analyze first 3 MFCCs\n",
    "        cwt_matrix, _ = pywt.cwt(mfcc_matrix[i], widths, wavelet)\n",
    "        \n",
    "        features.extend([\n",
    "            np.mean(np.abs(cwt_matrix)),  # Average pattern strength\n",
    "            np.std(cwt_matrix),           # Pattern variability\n",
    "            np.sum(np.abs(np.diff(cwt_matrix, axis=0))) / cwt_matrix.shape[1]  # Melodic change rate\n",
    "        ])\n",
    "        names.extend([f'melodic_strength_{i}', f'melodic_var_{i}', f'melodic_change_{i}'])\n",
    "    \n",
    "    # Tonal transition matrix (capturing melodic progressions)\n",
    "    quantized_mfccs = np.round(mfcc_matrix[1:5] * 4) / 4  # Quantize to reduce noise\n",
    "    transitions = np.zeros((16, 16))\n",
    "    \n",
    "    for i in range(quantized_mfccs.shape[1] - 1):\n",
    "        current_state = np.sum(quantized_mfccs[:,i] * np.array([4, 3, 2, 1]))\n",
    "        next_state = np.sum(quantized_mfccs[:,i+1] * np.array([4, 3, 2, 1]))\n",
    "        transitions[int(current_state % 16), int(next_state % 16)] += 1\n",
    "    \n",
    "    # Extract features from transition matrix\n",
    "    features.extend([\n",
    "        np.count_nonzero(transitions) / transitions.size,  # Transition diversity\n",
    "        entropy(transitions.flatten() + 1e-10),            # Transition entropy\n",
    "        np.max(transitions) / np.mean(transitions)         # Dominant transition strength\n",
    "    ])\n",
    "    names.extend(['tonal_diversity', 'tonal_entropy', 'tonal_dominance'])\n",
    "    \n",
    "    return features, names\n",
    "\n",
    "def extract_cultural_rhythm_features(mfcc_matrix):\n",
    "    features = []\n",
    "    names = []\n",
    "\n",
    "    # 1. Taal/Meter Analysis using autocorrelation\n",
    "    onset_env = np.sum(np.abs(np.diff(mfcc_matrix, axis=1)), axis=0)\n",
    "    onset_ac = acf(onset_env, nlags=86)\n",
    "    \n",
    "    # Find peaks in autocorrelation to detect rhythm cycles\n",
    "    peaks, properties = find_peaks(onset_ac, distance=10)\n",
    "    if len(peaks) > 0:\n",
    "        rhythm_features = [\n",
    "            len(peaks),                    # Number of distinct rhythm cycles\n",
    "            np.mean(onset_ac[peaks]),      # Average rhythm strength\n",
    "            np.std(np.diff(peaks)),        # Rhythm regularity\n",
    "            np.max(onset_ac[peaks]) / np.mean(onset_ac[peaks])  # Dominant rhythm strength\n",
    "        ]\n",
    "    else:\n",
    "        rhythm_features = [0, 0, 0, 0]\n",
    "    \n",
    "    features.extend(rhythm_features)\n",
    "    names.extend(['rhythm_cycles', 'rhythm_strength', 'rhythm_regularity', 'rhythm_dominance'])\n",
    "    \n",
    "    # 2. Complex rhythm pattern detection using time-warped segments\n",
    "    segment_length = min(86, mfcc_matrix.shape[1] // 4)\n",
    "    rhythm_patterns = []\n",
    "    \n",
    "    for i in range(4):\n",
    "        segment = mfcc_matrix[:, i*segment_length:(i+1)*segment_length]\n",
    "        rhythm_patterns.append(np.sum(np.abs(np.diff(segment, axis=1)), axis=0))\n",
    "    \n",
    "    # Calculate pattern similarity matrix\n",
    "    pattern_sim = squareform(pdist(np.array(rhythm_patterns)))\n",
    "    features.extend([\n",
    "        np.mean(pattern_sim),     # Average pattern similarity\n",
    "        np.min(pattern_sim[pattern_sim > 0]) if np.any(pattern_sim > 0) else 0,  # Most similar patterns\n",
    "        np.max(pattern_sim)       # Most different patterns\n",
    "    ])\n",
    "    names.extend(['pattern_similarity', 'pattern_repetition', 'pattern_variation'])\n",
    "    \n",
    "    return features, names\n",
    "\n",
    "def extract_vocal_ornament_features(mfcc_matrix):\n",
    "\n",
    "    features = []\n",
    "    names = []\n",
    "    \n",
    "    # 1. Short-time frequency analysis for ornament detection\n",
    "    frame_size = 10\n",
    "    hop_size = 5\n",
    "    num_frames = (mfcc_matrix.shape[1] - frame_size) // hop_size\n",
    "    \n",
    "    ornament_stats = []\n",
    "    for i in range(num_frames):\n",
    "        frame = mfcc_matrix[:5, i*hop_size:i*hop_size+frame_size]\n",
    "        \n",
    "        # Detect rapid pitch changes (gamak)\n",
    "        pitch_changes = np.sum(np.abs(np.diff(frame, axis=1)))\n",
    "        \n",
    "        # Detect smooth pitch slides (meend)\n",
    "        pitch_smoothness = np.mean(np.abs(np.diff(np.diff(frame, axis=1), axis=1)))\n",
    "        \n",
    "        ornament_stats.append([pitch_changes, pitch_smoothness])\n",
    "    \n",
    "    ornament_stats = np.array(ornament_stats)\n",
    "    \n",
    "    # Calculate ornament features\n",
    "    for i in range(2):\n",
    "        features.extend([\n",
    "            np.mean(ornament_stats[:, i]),  # Average ornament usage\n",
    "            np.std(ornament_stats[:, i]),   # Ornament variability\n",
    "            np.percentile(ornament_stats[:, i], 90),  # Strong ornament presence\n",
    "            len(find_peaks(ornament_stats[:, i])[0]) / len(ornament_stats)  # Ornament density\n",
    "        ])\n",
    "    names.extend([\n",
    "        'gamak_avg', 'gamak_var', 'gamak_strength', 'gamak_density',\n",
    "        'meend_avg', 'meend_var', 'meend_strength', 'meend_density'\n",
    "    ])\n",
    "    \n",
    "    # 2. Vibrato analysis using frequency modulation\n",
    "    for i in range(3):\n",
    "        coeff = mfcc_matrix[i]\n",
    "        freqs, psd = welch(np.diff(coeff), fs=86)\n",
    "        \n",
    "        # Analyze different vibrato types (4-8 Hz for classical, 5-7 Hz for western)\n",
    "        classical_vibrato = np.sum(psd[(freqs >= 4) & (freqs <= 8)])\n",
    "        western_vibrato = np.sum(psd[(freqs >= 5) & (freqs <= 7)])\n",
    "        \n",
    "        features.extend([classical_vibrato, western_vibrato])\n",
    "        names.extend([f'classical_vibrato_{i}', f'western_vibrato_{i}'])\n",
    "    \n",
    "    return features, names\n",
    "\n",
    "def extract_production_style_features(mfcc_matrix):\n",
    "\n",
    "    features = []\n",
    "    names = []\n",
    "    \n",
    "    # 1. Spectral flatness across different frequency bands\n",
    "    bands = [(1,4), (5,8), (9,12), (13,16)]\n",
    "    for start, end in bands:\n",
    "        band = mfcc_matrix[start:end]\n",
    "        flatness = np.exp(np.mean(np.log(np.abs(band) + 1e-10))) / (np.mean(np.abs(band)) + 1e-10)\n",
    "        features.append(flatness)\n",
    "    names.extend([f'spectral_flatness_band_{i}' for i in range(len(bands))])\n",
    "    \n",
    "    # 2. Production quality metrics\n",
    "    spectral_flux = np.mean(np.abs(np.diff(mfcc_matrix, axis=1)), axis=1)\n",
    "    features.extend([\n",
    "        np.mean(spectral_flux),    # Overall dynamic range\n",
    "        np.std(spectral_flux),     # Dynamic variation\n",
    "        skew(spectral_flux),       # Dynamic asymmetry\n",
    "        kurtosis(spectral_flux)    # Dynamic peakedness\n",
    "    ])\n",
    "    names.extend(['dynamic_range', 'dynamic_var', 'dynamic_skew', 'dynamic_kurt'])\n",
    "    \n",
    "    # 3. Microphone and recording quality indicators\n",
    "    noise_floor = np.percentile(np.abs(mfcc_matrix), 10, axis=1)\n",
    "    features.extend([\n",
    "        np.mean(noise_floor),      # Average noise level\n",
    "        np.std(noise_floor),       # Noise consistency\n",
    "        np.max(noise_floor)        # Peak noise level\n",
    "    ])\n",
    "    names.extend(['noise_level', 'noise_consistency', 'peak_noise'])\n",
    "    \n",
    "    return features, names\n",
    "\n",
    "def extract_ensemble_features(mfcc_matrix):\n",
    "\n",
    "    features = []\n",
    "    names = []\n",
    "    \n",
    "    # 1. Spectral density analysis\n",
    "    freq_bands = [(1,4), (5,8), (9,12), (13,16), (17,19)]\n",
    "    density_features = []\n",
    "    \n",
    "    for start, end in freq_bands:\n",
    "        band = mfcc_matrix[start:end]\n",
    "        # Calculate spectral density features\n",
    "        density = np.sum(np.abs(band) > np.mean(np.abs(band))) / len(band)\n",
    "        density_features.append(density)\n",
    "    \n",
    "    features.extend(density_features)\n",
    "    names.extend([f'freq_band_density_{i}' for i in range(len(freq_bands))])\n",
    "    \n",
    "    return features, names\n",
    "\n",
    "def extract_national_anthem_features(mfcc_matrix):\n",
    "\n",
    "    features = []\n",
    "    names = []\n",
    "    \n",
    "    # 1. Tempo stability analysis\n",
    "    onset_env = np.sum(np.abs(np.diff(mfcc_matrix, axis=1)), axis=0)\n",
    "    peaks, _ = find_peaks(onset_env, distance=20)\n",
    "    if len(peaks) > 1:\n",
    "        intervals = np.diff(peaks)\n",
    "        tempo_stability = np.std(intervals) / np.mean(intervals)\n",
    "        features.append(tempo_stability)\n",
    "    else:\n",
    "        features.append(0)\n",
    "    names.append('tempo_stability')\n",
    "    \n",
    "    # 2. Pronunciation clarity (using MFCC transitions)\n",
    "    transitions = np.diff(mfcc_matrix, axis=1)\n",
    "    clarity_score = np.mean(np.abs(transitions)) / np.std(transitions)\n",
    "    features.append(clarity_score)\n",
    "    names.append('pronunciation_clarity')\n",
    "    \n",
    "    # 3. Rhythmic pattern matching (specific to anthem)\n",
    "    segment_length = min(86, mfcc_matrix.shape[1] // 4)\n",
    "    pattern_scores = []\n",
    "    for i in range(4):\n",
    "        segment = mfcc_matrix[:, i*segment_length:(i+1)*segment_length]\n",
    "        pattern_scores.append(np.std(np.mean(segment, axis=0)))\n",
    "    features.extend(pattern_scores)\n",
    "    names.extend([f'rhythm_pattern_{i}' for i in range(4)])\n",
    "    \n",
    "    return features, names\n",
    "\n",
    "def extract_bhav_geet_features(mfcc_matrix):\n",
    "\n",
    "    features = []\n",
    "    names = []\n",
    "    \n",
    "    # 1. Tempo analysis for slower patterns\n",
    "    tempo_envelope = np.sum(np.abs(np.diff(mfcc_matrix, axis=1)), axis=0)\n",
    "    peaks, _ = find_peaks(tempo_envelope, distance=30)  # Larger distance for slower tempo\n",
    "    tempo_density = len(peaks) / mfcc_matrix.shape[1]\n",
    "    features.append(tempo_density)\n",
    "    names.append('tempo_density')\n",
    "    \n",
    "    # 2. Emotional modulation detection\n",
    "    modulation = np.std(mfcc_matrix, axis=1)\n",
    "    emotional_range = np.max(modulation) / np.mean(modulation)\n",
    "    features.append(emotional_range)\n",
    "    names.append('emotional_range')\n",
    "    \n",
    "    # 3. Percussion absence feature\n",
    "    percussion_band = np.mean(mfcc_matrix[1:4, :], axis=0)  # Lower frequency bands\n",
    "    percussion_intensity = np.percentile(percussion_band, 90)\n",
    "    features.append(percussion_intensity)\n",
    "    names.append('percussion_intensity')\n",
    "    \n",
    "    return features, names\n",
    "\n",
    "def extract_lavni_features(mfcc_matrix):\n",
    "\n",
    "    features = []\n",
    "    names = []\n",
    "    \n",
    "    # 1. Fast tempo detection\n",
    "    tempo_env = np.sum(np.abs(np.diff(mfcc_matrix, axis=1)), axis=0)\n",
    "    peaks, _ = find_peaks(tempo_env, distance=10)  # Smaller distance for faster tempo\n",
    "    if len(peaks) > 1:\n",
    "        peak_intervals = np.diff(peaks)\n",
    "        features.extend([\n",
    "            np.mean(peak_intervals),  # Average beat interval\n",
    "            np.percentile(peak_intervals, 25),  # Fast tempo indicator\n",
    "            len(peaks) / mfcc_matrix.shape[1]  # Beat density\n",
    "        ])\n",
    "    else:\n",
    "        features.extend([0, 0, 0])\n",
    "    names.extend(['beat_interval', 'fast_tempo_indicator', 'beat_density'])\n",
    "    \n",
    "    # 2. Rhythmic pattern strength\n",
    "    rhythm_strength = np.std(np.mean(mfcc_matrix[1:5, :], axis=0))\n",
    "    features.append(rhythm_strength)\n",
    "    names.append('rhythm_strength')\n",
    "    \n",
    "    # 3. Percussion energy\n",
    "    percussion_band = np.mean(mfcc_matrix[1:4, :], axis=0)\n",
    "    features.append(np.max(percussion_band))\n",
    "    names.append('percussion_energy')\n",
    "    \n",
    "    return features, names\n",
    "\n",
    "def extract_singer_specific_features(mfcc_matrix):\n",
    "\n",
    "    features = []\n",
    "    names = []\n",
    "    \n",
    "    # 1. Vocal texture analysis\n",
    "    for i in range(1, 6):  # Analyze first 5 MFCCs\n",
    "        coeff = mfcc_matrix[i]\n",
    "        features.extend([\n",
    "            np.mean(coeff),\n",
    "            np.std(coeff),\n",
    "            skew(coeff),\n",
    "            kurtosis(coeff)\n",
    "        ])\n",
    "        names.extend([\n",
    "            f'vocal_texture_mean_{i}',\n",
    "            f'vocal_texture_std_{i}',\n",
    "            f'vocal_texture_skew_{i}',\n",
    "            f'vocal_texture_kurt_{i}'\n",
    "        ])\n",
    "    \n",
    "    # 2. Pitch range analysis\n",
    "    pitch_range = np.ptp(mfcc_matrix[1:5, :], axis=1)  # Peak to peak of pitch-related coefficients\n",
    "    features.extend(pitch_range)\n",
    "    names.extend([f'pitch_range_{i}' for i in range(len(pitch_range))])\n",
    "    \n",
    "    # 3. Vibrato analysis\n",
    "    for i in range(1, 4):\n",
    "        # Analyze frequency content of MFCC variations\n",
    "        freqs, psd = welch(np.diff(mfcc_matrix[i]), fs=86)  # 86 frames per second\n",
    "        vibrato_power = np.sum(psd[(freqs >= 4) & (freqs <= 8)])  # 4-8 Hz vibrato range\n",
    "        features.append(vibrato_power)\n",
    "        names.append(f'vibrato_power_{i}')\n",
    "    \n",
    "    # 4. Style signatures\n",
    "    # Transition patterns between notes\n",
    "    transitions = np.diff(mfcc_matrix[1:5, :], axis=1)\n",
    "    transition_stats = [\n",
    "        np.mean(np.abs(transitions)),  # Average transition speed\n",
    "        np.std(transitions),           # Transition variability\n",
    "        skew(transitions.flatten()),   # Transition asymmetry\n",
    "        kurtosis(transitions.flatten())# Transition peakedness\n",
    "    ]\n",
    "    features.extend(transition_stats)\n",
    "    names.extend(['transition_speed', 'transition_var', 'transition_skew', 'transition_kurt'])\n",
    "    \n",
    "    return features, names\n",
    "\n",
    "def extract_western_music_features(mfcc_matrix):\n",
    "\n",
    "    features = []\n",
    "    names = []\n",
    "    \n",
    "    # 1. Scale system analysis\n",
    "    scale_features = np.mean(mfcc_matrix[2:8, :], axis=1)  # Focus on mid-range coefficients\n",
    "    features.extend([\n",
    "        np.mean(scale_features),\n",
    "        np.std(scale_features),\n",
    "        skew(scale_features),\n",
    "        kurtosis(scale_features)\n",
    "    ])\n",
    "    names.extend(['scale_mean', 'scale_std', 'scale_skew', 'scale_kurt'])\n",
    "    \n",
    "    # 2. Production style features\n",
    "    # Analyze spectral flatness and contrast\n",
    "    spectral_contrast = np.max(mfcc_matrix, axis=0) - np.min(mfcc_matrix, axis=0)\n",
    "    features.extend([\n",
    "        np.mean(spectral_contrast),\n",
    "        np.std(spectral_contrast),\n",
    "        np.percentile(spectral_contrast, 90)\n",
    "    ])\n",
    "    names.extend(['production_contrast_mean', 'production_contrast_std', 'production_contrast_peak'])\n",
    "    \n",
    "    # 3. Instrument mix analysis\n",
    "    # Analyze different frequency bands\n",
    "    bands = [\n",
    "        (1, 4),   # Low frequency\n",
    "        (5, 9),   # Mid frequency\n",
    "        (10, 15), # High frequency\n",
    "        (16, 19)  # Very high frequency\n",
    "    ]\n",
    "    \n",
    "    for i, (start, end) in enumerate(bands):\n",
    "        band = mfcc_matrix[start:end, :]\n",
    "        band_stats = [\n",
    "            np.mean(np.std(band, axis=1)),  # Variation within band\n",
    "            np.mean(np.abs(np.diff(band, axis=1)))  # Temporal changes\n",
    "        ]\n",
    "        features.extend(band_stats)\n",
    "        names.extend([f'band_{i}_variation', f'band_{i}_temporal'])\n",
    "    \n",
    "    return features, names"
   ]
  },
  {
   "cell_type": "code",
   "execution_count": null,
   "metadata": {},
   "outputs": [
    {
     "name": "stdout",
     "output_type": "stream",
     "text": [
      "Processing file: 01-MFCC.csv\n"
     ]
    },
    {
     "name": "stderr",
     "output_type": "stream",
     "text": [
      "d:\\MY FILES\\IITB\\Sem 3\\DS203\\env\\Lib\\site-packages\\scipy\\signal\\_spectral_py.py:600: UserWarning: nperseg = 256 is greater than input length  = 19, using nperseg = 19\n",
      "  freqs, _, Pxy = _spectral_helper(x, y, fs, window, nperseg, noverlap,\n",
      "d:\\MY FILES\\IITB\\Sem 3\\DS203\\env\\Lib\\site-packages\\numpy\\_core\\_methods.py:218: RuntimeWarning: Degrees of freedom <= 0 for slice\n",
      "  ret = _var(a, axis=axis, dtype=dtype, out=out, ddof=ddof,\n",
      "d:\\MY FILES\\IITB\\Sem 3\\DS203\\env\\Lib\\site-packages\\numpy\\_core\\_methods.py:175: RuntimeWarning: invalid value encountered in divide\n",
      "  arrmean = um.true_divide(arrmean, div, out=arrmean,\n",
      "d:\\MY FILES\\IITB\\Sem 3\\DS203\\env\\Lib\\site-packages\\numpy\\_core\\_methods.py:210: RuntimeWarning: invalid value encountered in scalar divide\n",
      "  ret = ret.dtype.type(ret / rcount)\n",
      "d:\\MY FILES\\IITB\\Sem 3\\DS203\\env\\Lib\\site-packages\\scipy\\signal\\_spectral_py.py:600: UserWarning: nperseg = 256 is greater than input length  = 19, using nperseg = 19\n",
      "  freqs, _, Pxy = _spectral_helper(x, y, fs, window, nperseg, noverlap,\n"
     ]
    },
    {
     "name": "stdout",
     "output_type": "stream",
     "text": [
      "Processing file: 02-MFCC.csv\n",
      "Processing file: 03-MFCC.csv\n"
     ]
    },
    {
     "name": "stderr",
     "output_type": "stream",
     "text": [
      "d:\\MY FILES\\IITB\\Sem 3\\DS203\\env\\Lib\\site-packages\\numpy\\_core\\_methods.py:218: RuntimeWarning: Degrees of freedom <= 0 for slice\n",
      "  ret = _var(a, axis=axis, dtype=dtype, out=out, ddof=ddof,\n",
      "d:\\MY FILES\\IITB\\Sem 3\\DS203\\env\\Lib\\site-packages\\numpy\\_core\\_methods.py:175: RuntimeWarning: invalid value encountered in divide\n",
      "  arrmean = um.true_divide(arrmean, div, out=arrmean,\n",
      "d:\\MY FILES\\IITB\\Sem 3\\DS203\\env\\Lib\\site-packages\\numpy\\_core\\_methods.py:210: RuntimeWarning: invalid value encountered in scalar divide\n",
      "  ret = ret.dtype.type(ret / rcount)\n",
      "d:\\MY FILES\\IITB\\Sem 3\\DS203\\env\\Lib\\site-packages\\scipy\\signal\\_spectral_py.py:600: UserWarning: nperseg = 256 is greater than input length  = 19, using nperseg = 19\n",
      "  freqs, _, Pxy = _spectral_helper(x, y, fs, window, nperseg, noverlap,\n"
     ]
    },
    {
     "name": "stdout",
     "output_type": "stream",
     "text": [
      "Processing file: 04-MFCC.csv\n"
     ]
    },
    {
     "name": "stderr",
     "output_type": "stream",
     "text": [
      "d:\\MY FILES\\IITB\\Sem 3\\DS203\\env\\Lib\\site-packages\\statsmodels\\tsa\\stattools.py:693: RuntimeWarning: invalid value encountered in divide\n",
      "  acf = avf[: nlags + 1] / avf[0]\n",
      "d:\\MY FILES\\IITB\\Sem 3\\DS203\\env\\Lib\\site-packages\\scipy\\signal\\_spectral_py.py:600: UserWarning: nperseg = 256 is greater than input length  = 19, using nperseg = 19\n",
      "  freqs, _, Pxy = _spectral_helper(x, y, fs, window, nperseg, noverlap,\n",
      "C:\\Users\\Ronak\\AppData\\Local\\Temp\\ipykernel_32476\\376018993.py:201: RuntimeWarning: invalid value encountered in scalar divide\n",
      "  clarity_score = np.mean(np.abs(transitions)) / np.std(transitions)\n",
      "C:\\Users\\Ronak\\AppData\\Local\\Temp\\ipykernel_32476\\376018993.py:230: RuntimeWarning: invalid value encountered in scalar divide\n",
      "  emotional_range = np.max(modulation) / np.mean(modulation)\n"
     ]
    },
    {
     "name": "stdout",
     "output_type": "stream",
     "text": [
      "Processing file: 05-MFCC.csv\n"
     ]
    },
    {
     "name": "stderr",
     "output_type": "stream",
     "text": [
      "d:\\MY FILES\\IITB\\Sem 3\\DS203\\env\\Lib\\site-packages\\numpy\\_core\\_methods.py:218: RuntimeWarning: Degrees of freedom <= 0 for slice\n",
      "  ret = _var(a, axis=axis, dtype=dtype, out=out, ddof=ddof,\n",
      "d:\\MY FILES\\IITB\\Sem 3\\DS203\\env\\Lib\\site-packages\\numpy\\_core\\_methods.py:175: RuntimeWarning: invalid value encountered in divide\n",
      "  arrmean = um.true_divide(arrmean, div, out=arrmean,\n",
      "d:\\MY FILES\\IITB\\Sem 3\\DS203\\env\\Lib\\site-packages\\numpy\\_core\\_methods.py:210: RuntimeWarning: invalid value encountered in scalar divide\n",
      "  ret = ret.dtype.type(ret / rcount)\n",
      "d:\\MY FILES\\IITB\\Sem 3\\DS203\\env\\Lib\\site-packages\\scipy\\signal\\_spectral_py.py:600: UserWarning: nperseg = 256 is greater than input length  = 19, using nperseg = 19\n",
      "  freqs, _, Pxy = _spectral_helper(x, y, fs, window, nperseg, noverlap,\n"
     ]
    },
    {
     "name": "stdout",
     "output_type": "stream",
     "text": [
      "Processing file: 06-MFCC.csv\n"
     ]
    },
    {
     "name": "stderr",
     "output_type": "stream",
     "text": [
      "d:\\MY FILES\\IITB\\Sem 3\\DS203\\env\\Lib\\site-packages\\scipy\\signal\\_spectral_py.py:600: UserWarning: nperseg = 256 is greater than input length  = 19, using nperseg = 19\n",
      "  freqs, _, Pxy = _spectral_helper(x, y, fs, window, nperseg, noverlap,\n"
     ]
    },
    {
     "name": "stdout",
     "output_type": "stream",
     "text": [
      "Processing file: 07-MFCC.csv\n"
     ]
    },
    {
     "name": "stderr",
     "output_type": "stream",
     "text": [
      "d:\\MY FILES\\IITB\\Sem 3\\DS203\\env\\Lib\\site-packages\\statsmodels\\tsa\\stattools.py:693: RuntimeWarning: invalid value encountered in divide\n",
      "  acf = avf[: nlags + 1] / avf[0]\n",
      "d:\\MY FILES\\IITB\\Sem 3\\DS203\\env\\Lib\\site-packages\\scipy\\signal\\_spectral_py.py:600: UserWarning: nperseg = 256 is greater than input length  = 19, using nperseg = 19\n",
      "  freqs, _, Pxy = _spectral_helper(x, y, fs, window, nperseg, noverlap,\n",
      "C:\\Users\\Ronak\\AppData\\Local\\Temp\\ipykernel_32476\\376018993.py:201: RuntimeWarning: invalid value encountered in scalar divide\n",
      "  clarity_score = np.mean(np.abs(transitions)) / np.std(transitions)\n",
      "C:\\Users\\Ronak\\AppData\\Local\\Temp\\ipykernel_32476\\376018993.py:230: RuntimeWarning: invalid value encountered in scalar divide\n",
      "  emotional_range = np.max(modulation) / np.mean(modulation)\n"
     ]
    },
    {
     "name": "stdout",
     "output_type": "stream",
     "text": [
      "Processing file: 08-MFCC.csv\n"
     ]
    },
    {
     "name": "stderr",
     "output_type": "stream",
     "text": [
      "d:\\MY FILES\\IITB\\Sem 3\\DS203\\env\\Lib\\site-packages\\numpy\\_core\\_methods.py:218: RuntimeWarning: Degrees of freedom <= 0 for slice\n",
      "  ret = _var(a, axis=axis, dtype=dtype, out=out, ddof=ddof,\n",
      "d:\\MY FILES\\IITB\\Sem 3\\DS203\\env\\Lib\\site-packages\\numpy\\_core\\_methods.py:175: RuntimeWarning: invalid value encountered in divide\n",
      "  arrmean = um.true_divide(arrmean, div, out=arrmean,\n",
      "d:\\MY FILES\\IITB\\Sem 3\\DS203\\env\\Lib\\site-packages\\numpy\\_core\\_methods.py:210: RuntimeWarning: invalid value encountered in scalar divide\n",
      "  ret = ret.dtype.type(ret / rcount)\n",
      "d:\\MY FILES\\IITB\\Sem 3\\DS203\\env\\Lib\\site-packages\\scipy\\signal\\_spectral_py.py:600: UserWarning: nperseg = 256 is greater than input length  = 19, using nperseg = 19\n",
      "  freqs, _, Pxy = _spectral_helper(x, y, fs, window, nperseg, noverlap,\n"
     ]
    },
    {
     "name": "stdout",
     "output_type": "stream",
     "text": [
      "Processing file: 09-MFCC.csv\n"
     ]
    },
    {
     "name": "stderr",
     "output_type": "stream",
     "text": [
      "d:\\MY FILES\\IITB\\Sem 3\\DS203\\env\\Lib\\site-packages\\scipy\\signal\\_spectral_py.py:600: UserWarning: nperseg = 256 is greater than input length  = 19, using nperseg = 19\n",
      "  freqs, _, Pxy = _spectral_helper(x, y, fs, window, nperseg, noverlap,\n"
     ]
    },
    {
     "name": "stdout",
     "output_type": "stream",
     "text": [
      "Processing file: 10-MFCC.csv\n"
     ]
    },
    {
     "name": "stderr",
     "output_type": "stream",
     "text": [
      "d:\\MY FILES\\IITB\\Sem 3\\DS203\\env\\Lib\\site-packages\\numpy\\_core\\_methods.py:218: RuntimeWarning: Degrees of freedom <= 0 for slice\n",
      "  ret = _var(a, axis=axis, dtype=dtype, out=out, ddof=ddof,\n",
      "d:\\MY FILES\\IITB\\Sem 3\\DS203\\env\\Lib\\site-packages\\numpy\\_core\\_methods.py:175: RuntimeWarning: invalid value encountered in divide\n",
      "  arrmean = um.true_divide(arrmean, div, out=arrmean,\n",
      "d:\\MY FILES\\IITB\\Sem 3\\DS203\\env\\Lib\\site-packages\\numpy\\_core\\_methods.py:210: RuntimeWarning: invalid value encountered in scalar divide\n",
      "  ret = ret.dtype.type(ret / rcount)\n",
      "d:\\MY FILES\\IITB\\Sem 3\\DS203\\env\\Lib\\site-packages\\scipy\\signal\\_spectral_py.py:600: UserWarning: nperseg = 256 is greater than input length  = 19, using nperseg = 19\n",
      "  freqs, _, Pxy = _spectral_helper(x, y, fs, window, nperseg, noverlap,\n"
     ]
    },
    {
     "name": "stdout",
     "output_type": "stream",
     "text": [
      "Processing file: 100-MFCC.csv\n"
     ]
    },
    {
     "name": "stderr",
     "output_type": "stream",
     "text": [
      "d:\\MY FILES\\IITB\\Sem 3\\DS203\\env\\Lib\\site-packages\\numpy\\_core\\_methods.py:218: RuntimeWarning: Degrees of freedom <= 0 for slice\n",
      "  ret = _var(a, axis=axis, dtype=dtype, out=out, ddof=ddof,\n",
      "d:\\MY FILES\\IITB\\Sem 3\\DS203\\env\\Lib\\site-packages\\numpy\\_core\\_methods.py:175: RuntimeWarning: invalid value encountered in divide\n",
      "  arrmean = um.true_divide(arrmean, div, out=arrmean,\n",
      "d:\\MY FILES\\IITB\\Sem 3\\DS203\\env\\Lib\\site-packages\\numpy\\_core\\_methods.py:210: RuntimeWarning: invalid value encountered in scalar divide\n",
      "  ret = ret.dtype.type(ret / rcount)\n",
      "d:\\MY FILES\\IITB\\Sem 3\\DS203\\env\\Lib\\site-packages\\scipy\\signal\\_spectral_py.py:600: UserWarning: nperseg = 256 is greater than input length  = 19, using nperseg = 19\n",
      "  freqs, _, Pxy = _spectral_helper(x, y, fs, window, nperseg, noverlap,\n"
     ]
    },
    {
     "name": "stdout",
     "output_type": "stream",
     "text": [
      "Processing file: 101-MFCC.csv\n"
     ]
    },
    {
     "name": "stderr",
     "output_type": "stream",
     "text": [
      "d:\\MY FILES\\IITB\\Sem 3\\DS203\\env\\Lib\\site-packages\\statsmodels\\tsa\\stattools.py:693: RuntimeWarning: invalid value encountered in divide\n",
      "  acf = avf[: nlags + 1] / avf[0]\n",
      "d:\\MY FILES\\IITB\\Sem 3\\DS203\\env\\Lib\\site-packages\\scipy\\signal\\_spectral_py.py:600: UserWarning: nperseg = 256 is greater than input length  = 19, using nperseg = 19\n",
      "  freqs, _, Pxy = _spectral_helper(x, y, fs, window, nperseg, noverlap,\n",
      "C:\\Users\\Ronak\\AppData\\Local\\Temp\\ipykernel_32476\\376018993.py:201: RuntimeWarning: invalid value encountered in scalar divide\n",
      "  clarity_score = np.mean(np.abs(transitions)) / np.std(transitions)\n",
      "C:\\Users\\Ronak\\AppData\\Local\\Temp\\ipykernel_32476\\376018993.py:230: RuntimeWarning: invalid value encountered in scalar divide\n",
      "  emotional_range = np.max(modulation) / np.mean(modulation)\n"
     ]
    },
    {
     "name": "stdout",
     "output_type": "stream",
     "text": [
      "Processing file: 102-MFCC.csv\n"
     ]
    },
    {
     "name": "stderr",
     "output_type": "stream",
     "text": [
      "d:\\MY FILES\\IITB\\Sem 3\\DS203\\env\\Lib\\site-packages\\scipy\\signal\\_spectral_py.py:600: UserWarning: nperseg = 256 is greater than input length  = 19, using nperseg = 19\n",
      "  freqs, _, Pxy = _spectral_helper(x, y, fs, window, nperseg, noverlap,\n"
     ]
    },
    {
     "name": "stdout",
     "output_type": "stream",
     "text": [
      "Processing file: 103-MFCC.csv\n"
     ]
    },
    {
     "name": "stderr",
     "output_type": "stream",
     "text": [
      "d:\\MY FILES\\IITB\\Sem 3\\DS203\\env\\Lib\\site-packages\\numpy\\_core\\_methods.py:218: RuntimeWarning: Degrees of freedom <= 0 for slice\n",
      "  ret = _var(a, axis=axis, dtype=dtype, out=out, ddof=ddof,\n",
      "d:\\MY FILES\\IITB\\Sem 3\\DS203\\env\\Lib\\site-packages\\numpy\\_core\\_methods.py:175: RuntimeWarning: invalid value encountered in divide\n",
      "  arrmean = um.true_divide(arrmean, div, out=arrmean,\n",
      "d:\\MY FILES\\IITB\\Sem 3\\DS203\\env\\Lib\\site-packages\\numpy\\_core\\_methods.py:210: RuntimeWarning: invalid value encountered in scalar divide\n",
      "  ret = ret.dtype.type(ret / rcount)\n",
      "d:\\MY FILES\\IITB\\Sem 3\\DS203\\env\\Lib\\site-packages\\scipy\\signal\\_spectral_py.py:600: UserWarning: nperseg = 256 is greater than input length  = 19, using nperseg = 19\n",
      "  freqs, _, Pxy = _spectral_helper(x, y, fs, window, nperseg, noverlap,\n"
     ]
    },
    {
     "name": "stdout",
     "output_type": "stream",
     "text": [
      "Processing file: 104-MFCC.csv\n"
     ]
    },
    {
     "name": "stderr",
     "output_type": "stream",
     "text": [
      "d:\\MY FILES\\IITB\\Sem 3\\DS203\\env\\Lib\\site-packages\\statsmodels\\tsa\\stattools.py:693: RuntimeWarning: invalid value encountered in divide\n",
      "  acf = avf[: nlags + 1] / avf[0]\n",
      "d:\\MY FILES\\IITB\\Sem 3\\DS203\\env\\Lib\\site-packages\\scipy\\signal\\_spectral_py.py:600: UserWarning: nperseg = 256 is greater than input length  = 19, using nperseg = 19\n",
      "  freqs, _, Pxy = _spectral_helper(x, y, fs, window, nperseg, noverlap,\n",
      "C:\\Users\\Ronak\\AppData\\Local\\Temp\\ipykernel_32476\\376018993.py:201: RuntimeWarning: invalid value encountered in scalar divide\n",
      "  clarity_score = np.mean(np.abs(transitions)) / np.std(transitions)\n",
      "C:\\Users\\Ronak\\AppData\\Local\\Temp\\ipykernel_32476\\376018993.py:230: RuntimeWarning: invalid value encountered in scalar divide\n",
      "  emotional_range = np.max(modulation) / np.mean(modulation)\n"
     ]
    },
    {
     "name": "stdout",
     "output_type": "stream",
     "text": [
      "Processing file: 105-MFCC.csv\n"
     ]
    },
    {
     "name": "stderr",
     "output_type": "stream",
     "text": [
      "d:\\MY FILES\\IITB\\Sem 3\\DS203\\env\\Lib\\site-packages\\scipy\\signal\\_spectral_py.py:600: UserWarning: nperseg = 256 is greater than input length  = 19, using nperseg = 19\n",
      "  freqs, _, Pxy = _spectral_helper(x, y, fs, window, nperseg, noverlap,\n"
     ]
    },
    {
     "name": "stdout",
     "output_type": "stream",
     "text": [
      "Processing file: 106-MFCC.csv\n"
     ]
    },
    {
     "name": "stderr",
     "output_type": "stream",
     "text": [
      "d:\\MY FILES\\IITB\\Sem 3\\DS203\\env\\Lib\\site-packages\\scipy\\signal\\_spectral_py.py:600: UserWarning: nperseg = 256 is greater than input length  = 19, using nperseg = 19\n",
      "  freqs, _, Pxy = _spectral_helper(x, y, fs, window, nperseg, noverlap,\n"
     ]
    },
    {
     "name": "stdout",
     "output_type": "stream",
     "text": [
      "Processing file: 107-MFCC.csv\n"
     ]
    },
    {
     "name": "stderr",
     "output_type": "stream",
     "text": [
      "d:\\MY FILES\\IITB\\Sem 3\\DS203\\env\\Lib\\site-packages\\scipy\\signal\\_spectral_py.py:600: UserWarning: nperseg = 256 is greater than input length  = 19, using nperseg = 19\n",
      "  freqs, _, Pxy = _spectral_helper(x, y, fs, window, nperseg, noverlap,\n"
     ]
    },
    {
     "name": "stdout",
     "output_type": "stream",
     "text": [
      "Processing file: 108-MFCC.csv\n"
     ]
    },
    {
     "name": "stderr",
     "output_type": "stream",
     "text": [
      "d:\\MY FILES\\IITB\\Sem 3\\DS203\\env\\Lib\\site-packages\\scipy\\signal\\_spectral_py.py:600: UserWarning: nperseg = 256 is greater than input length  = 19, using nperseg = 19\n",
      "  freqs, _, Pxy = _spectral_helper(x, y, fs, window, nperseg, noverlap,\n"
     ]
    },
    {
     "name": "stdout",
     "output_type": "stream",
     "text": [
      "Processing file: 109-MFCC.csv\n"
     ]
    },
    {
     "name": "stderr",
     "output_type": "stream",
     "text": [
      "d:\\MY FILES\\IITB\\Sem 3\\DS203\\env\\Lib\\site-packages\\statsmodels\\tsa\\stattools.py:693: RuntimeWarning: invalid value encountered in divide\n",
      "  acf = avf[: nlags + 1] / avf[0]\n",
      "d:\\MY FILES\\IITB\\Sem 3\\DS203\\env\\Lib\\site-packages\\scipy\\signal\\_spectral_py.py:600: UserWarning: nperseg = 256 is greater than input length  = 19, using nperseg = 19\n",
      "  freqs, _, Pxy = _spectral_helper(x, y, fs, window, nperseg, noverlap,\n",
      "C:\\Users\\Ronak\\AppData\\Local\\Temp\\ipykernel_32476\\376018993.py:201: RuntimeWarning: invalid value encountered in scalar divide\n",
      "  clarity_score = np.mean(np.abs(transitions)) / np.std(transitions)\n",
      "C:\\Users\\Ronak\\AppData\\Local\\Temp\\ipykernel_32476\\376018993.py:230: RuntimeWarning: invalid value encountered in scalar divide\n",
      "  emotional_range = np.max(modulation) / np.mean(modulation)\n"
     ]
    },
    {
     "name": "stdout",
     "output_type": "stream",
     "text": [
      "Processing file: 11-MFCC.csv\n"
     ]
    },
    {
     "name": "stderr",
     "output_type": "stream",
     "text": [
      "d:\\MY FILES\\IITB\\Sem 3\\DS203\\env\\Lib\\site-packages\\statsmodels\\tsa\\stattools.py:693: RuntimeWarning: invalid value encountered in divide\n",
      "  acf = avf[: nlags + 1] / avf[0]\n",
      "d:\\MY FILES\\IITB\\Sem 3\\DS203\\env\\Lib\\site-packages\\scipy\\signal\\_spectral_py.py:600: UserWarning: nperseg = 256 is greater than input length  = 19, using nperseg = 19\n",
      "  freqs, _, Pxy = _spectral_helper(x, y, fs, window, nperseg, noverlap,\n",
      "C:\\Users\\Ronak\\AppData\\Local\\Temp\\ipykernel_32476\\376018993.py:201: RuntimeWarning: invalid value encountered in scalar divide\n",
      "  clarity_score = np.mean(np.abs(transitions)) / np.std(transitions)\n",
      "C:\\Users\\Ronak\\AppData\\Local\\Temp\\ipykernel_32476\\376018993.py:230: RuntimeWarning: invalid value encountered in scalar divide\n",
      "  emotional_range = np.max(modulation) / np.mean(modulation)\n"
     ]
    },
    {
     "name": "stdout",
     "output_type": "stream",
     "text": [
      "Processing file: 110-MFCC.csv\n"
     ]
    },
    {
     "name": "stderr",
     "output_type": "stream",
     "text": [
      "d:\\MY FILES\\IITB\\Sem 3\\DS203\\env\\Lib\\site-packages\\scipy\\signal\\_spectral_py.py:600: UserWarning: nperseg = 256 is greater than input length  = 19, using nperseg = 19\n",
      "  freqs, _, Pxy = _spectral_helper(x, y, fs, window, nperseg, noverlap,\n"
     ]
    },
    {
     "name": "stdout",
     "output_type": "stream",
     "text": [
      "Processing file: 111-MFCC.csv\n"
     ]
    },
    {
     "name": "stderr",
     "output_type": "stream",
     "text": [
      "d:\\MY FILES\\IITB\\Sem 3\\DS203\\env\\Lib\\site-packages\\numpy\\_core\\_methods.py:218: RuntimeWarning: Degrees of freedom <= 0 for slice\n",
      "  ret = _var(a, axis=axis, dtype=dtype, out=out, ddof=ddof,\n",
      "d:\\MY FILES\\IITB\\Sem 3\\DS203\\env\\Lib\\site-packages\\numpy\\_core\\_methods.py:175: RuntimeWarning: invalid value encountered in divide\n",
      "  arrmean = um.true_divide(arrmean, div, out=arrmean,\n",
      "d:\\MY FILES\\IITB\\Sem 3\\DS203\\env\\Lib\\site-packages\\numpy\\_core\\_methods.py:210: RuntimeWarning: invalid value encountered in scalar divide\n",
      "  ret = ret.dtype.type(ret / rcount)\n",
      "d:\\MY FILES\\IITB\\Sem 3\\DS203\\env\\Lib\\site-packages\\scipy\\signal\\_spectral_py.py:600: UserWarning: nperseg = 256 is greater than input length  = 19, using nperseg = 19\n",
      "  freqs, _, Pxy = _spectral_helper(x, y, fs, window, nperseg, noverlap,\n"
     ]
    },
    {
     "name": "stdout",
     "output_type": "stream",
     "text": [
      "Processing file: 112-MFCC.csv\n"
     ]
    },
    {
     "name": "stderr",
     "output_type": "stream",
     "text": [
      "d:\\MY FILES\\IITB\\Sem 3\\DS203\\env\\Lib\\site-packages\\statsmodels\\tsa\\stattools.py:693: RuntimeWarning: invalid value encountered in divide\n",
      "  acf = avf[: nlags + 1] / avf[0]\n",
      "d:\\MY FILES\\IITB\\Sem 3\\DS203\\env\\Lib\\site-packages\\scipy\\signal\\_spectral_py.py:600: UserWarning: nperseg = 256 is greater than input length  = 19, using nperseg = 19\n",
      "  freqs, _, Pxy = _spectral_helper(x, y, fs, window, nperseg, noverlap,\n",
      "C:\\Users\\Ronak\\AppData\\Local\\Temp\\ipykernel_32476\\376018993.py:201: RuntimeWarning: invalid value encountered in scalar divide\n",
      "  clarity_score = np.mean(np.abs(transitions)) / np.std(transitions)\n",
      "C:\\Users\\Ronak\\AppData\\Local\\Temp\\ipykernel_32476\\376018993.py:230: RuntimeWarning: invalid value encountered in scalar divide\n",
      "  emotional_range = np.max(modulation) / np.mean(modulation)\n"
     ]
    },
    {
     "name": "stdout",
     "output_type": "stream",
     "text": [
      "Processing file: 113-MFCC.csv\n"
     ]
    },
    {
     "name": "stderr",
     "output_type": "stream",
     "text": [
      "d:\\MY FILES\\IITB\\Sem 3\\DS203\\env\\Lib\\site-packages\\statsmodels\\tsa\\stattools.py:693: RuntimeWarning: invalid value encountered in divide\n",
      "  acf = avf[: nlags + 1] / avf[0]\n",
      "d:\\MY FILES\\IITB\\Sem 3\\DS203\\env\\Lib\\site-packages\\scipy\\signal\\_spectral_py.py:600: UserWarning: nperseg = 256 is greater than input length  = 19, using nperseg = 19\n",
      "  freqs, _, Pxy = _spectral_helper(x, y, fs, window, nperseg, noverlap,\n",
      "C:\\Users\\Ronak\\AppData\\Local\\Temp\\ipykernel_32476\\376018993.py:201: RuntimeWarning: invalid value encountered in scalar divide\n",
      "  clarity_score = np.mean(np.abs(transitions)) / np.std(transitions)\n",
      "C:\\Users\\Ronak\\AppData\\Local\\Temp\\ipykernel_32476\\376018993.py:230: RuntimeWarning: invalid value encountered in scalar divide\n",
      "  emotional_range = np.max(modulation) / np.mean(modulation)\n"
     ]
    },
    {
     "name": "stdout",
     "output_type": "stream",
     "text": [
      "Processing file: 114-MFCC.csv\n"
     ]
    },
    {
     "name": "stderr",
     "output_type": "stream",
     "text": [
      "d:\\MY FILES\\IITB\\Sem 3\\DS203\\env\\Lib\\site-packages\\statsmodels\\tsa\\stattools.py:693: RuntimeWarning: invalid value encountered in divide\n",
      "  acf = avf[: nlags + 1] / avf[0]\n",
      "d:\\MY FILES\\IITB\\Sem 3\\DS203\\env\\Lib\\site-packages\\scipy\\signal\\_spectral_py.py:600: UserWarning: nperseg = 256 is greater than input length  = 19, using nperseg = 19\n",
      "  freqs, _, Pxy = _spectral_helper(x, y, fs, window, nperseg, noverlap,\n",
      "C:\\Users\\Ronak\\AppData\\Local\\Temp\\ipykernel_32476\\376018993.py:201: RuntimeWarning: invalid value encountered in scalar divide\n",
      "  clarity_score = np.mean(np.abs(transitions)) / np.std(transitions)\n",
      "C:\\Users\\Ronak\\AppData\\Local\\Temp\\ipykernel_32476\\376018993.py:230: RuntimeWarning: invalid value encountered in scalar divide\n",
      "  emotional_range = np.max(modulation) / np.mean(modulation)\n"
     ]
    },
    {
     "name": "stdout",
     "output_type": "stream",
     "text": [
      "Processing file: 115-MFCC.csv\n"
     ]
    },
    {
     "name": "stderr",
     "output_type": "stream",
     "text": [
      "d:\\MY FILES\\IITB\\Sem 3\\DS203\\env\\Lib\\site-packages\\numpy\\_core\\_methods.py:218: RuntimeWarning: Degrees of freedom <= 0 for slice\n",
      "  ret = _var(a, axis=axis, dtype=dtype, out=out, ddof=ddof,\n",
      "d:\\MY FILES\\IITB\\Sem 3\\DS203\\env\\Lib\\site-packages\\numpy\\_core\\_methods.py:175: RuntimeWarning: invalid value encountered in divide\n",
      "  arrmean = um.true_divide(arrmean, div, out=arrmean,\n",
      "d:\\MY FILES\\IITB\\Sem 3\\DS203\\env\\Lib\\site-packages\\numpy\\_core\\_methods.py:210: RuntimeWarning: invalid value encountered in scalar divide\n",
      "  ret = ret.dtype.type(ret / rcount)\n",
      "d:\\MY FILES\\IITB\\Sem 3\\DS203\\env\\Lib\\site-packages\\scipy\\signal\\_spectral_py.py:600: UserWarning: nperseg = 256 is greater than input length  = 19, using nperseg = 19\n",
      "  freqs, _, Pxy = _spectral_helper(x, y, fs, window, nperseg, noverlap,\n"
     ]
    },
    {
     "name": "stdout",
     "output_type": "stream",
     "text": [
      "Processing file: 116-MFCC.csv\n"
     ]
    },
    {
     "name": "stderr",
     "output_type": "stream",
     "text": [
      "d:\\MY FILES\\IITB\\Sem 3\\DS203\\env\\Lib\\site-packages\\numpy\\_core\\_methods.py:218: RuntimeWarning: Degrees of freedom <= 0 for slice\n",
      "  ret = _var(a, axis=axis, dtype=dtype, out=out, ddof=ddof,\n",
      "d:\\MY FILES\\IITB\\Sem 3\\DS203\\env\\Lib\\site-packages\\numpy\\_core\\_methods.py:175: RuntimeWarning: invalid value encountered in divide\n",
      "  arrmean = um.true_divide(arrmean, div, out=arrmean,\n",
      "d:\\MY FILES\\IITB\\Sem 3\\DS203\\env\\Lib\\site-packages\\numpy\\_core\\_methods.py:210: RuntimeWarning: invalid value encountered in scalar divide\n",
      "  ret = ret.dtype.type(ret / rcount)\n",
      "d:\\MY FILES\\IITB\\Sem 3\\DS203\\env\\Lib\\site-packages\\scipy\\signal\\_spectral_py.py:600: UserWarning: nperseg = 256 is greater than input length  = 19, using nperseg = 19\n",
      "  freqs, _, Pxy = _spectral_helper(x, y, fs, window, nperseg, noverlap,\n"
     ]
    },
    {
     "name": "stdout",
     "output_type": "stream",
     "text": [
      "Processing file: 12-MFCC.csv\n"
     ]
    },
    {
     "name": "stderr",
     "output_type": "stream",
     "text": [
      "d:\\MY FILES\\IITB\\Sem 3\\DS203\\env\\Lib\\site-packages\\numpy\\_core\\_methods.py:218: RuntimeWarning: Degrees of freedom <= 0 for slice\n",
      "  ret = _var(a, axis=axis, dtype=dtype, out=out, ddof=ddof,\n",
      "d:\\MY FILES\\IITB\\Sem 3\\DS203\\env\\Lib\\site-packages\\numpy\\_core\\_methods.py:175: RuntimeWarning: invalid value encountered in divide\n",
      "  arrmean = um.true_divide(arrmean, div, out=arrmean,\n",
      "d:\\MY FILES\\IITB\\Sem 3\\DS203\\env\\Lib\\site-packages\\numpy\\_core\\_methods.py:210: RuntimeWarning: invalid value encountered in scalar divide\n",
      "  ret = ret.dtype.type(ret / rcount)\n",
      "d:\\MY FILES\\IITB\\Sem 3\\DS203\\env\\Lib\\site-packages\\scipy\\signal\\_spectral_py.py:600: UserWarning: nperseg = 256 is greater than input length  = 19, using nperseg = 19\n",
      "  freqs, _, Pxy = _spectral_helper(x, y, fs, window, nperseg, noverlap,\n"
     ]
    },
    {
     "name": "stdout",
     "output_type": "stream",
     "text": [
      "Processing file: 13-MFCC.csv\n"
     ]
    },
    {
     "name": "stderr",
     "output_type": "stream",
     "text": [
      "d:\\MY FILES\\IITB\\Sem 3\\DS203\\env\\Lib\\site-packages\\statsmodels\\tsa\\stattools.py:693: RuntimeWarning: invalid value encountered in divide\n",
      "  acf = avf[: nlags + 1] / avf[0]\n",
      "d:\\MY FILES\\IITB\\Sem 3\\DS203\\env\\Lib\\site-packages\\scipy\\signal\\_spectral_py.py:600: UserWarning: nperseg = 256 is greater than input length  = 19, using nperseg = 19\n",
      "  freqs, _, Pxy = _spectral_helper(x, y, fs, window, nperseg, noverlap,\n",
      "C:\\Users\\Ronak\\AppData\\Local\\Temp\\ipykernel_32476\\376018993.py:201: RuntimeWarning: invalid value encountered in scalar divide\n",
      "  clarity_score = np.mean(np.abs(transitions)) / np.std(transitions)\n",
      "C:\\Users\\Ronak\\AppData\\Local\\Temp\\ipykernel_32476\\376018993.py:230: RuntimeWarning: invalid value encountered in scalar divide\n",
      "  emotional_range = np.max(modulation) / np.mean(modulation)\n"
     ]
    },
    {
     "name": "stdout",
     "output_type": "stream",
     "text": [
      "Processing file: 14-MFCC.csv\n"
     ]
    },
    {
     "name": "stderr",
     "output_type": "stream",
     "text": [
      "d:\\MY FILES\\IITB\\Sem 3\\DS203\\env\\Lib\\site-packages\\scipy\\signal\\_spectral_py.py:600: UserWarning: nperseg = 256 is greater than input length  = 19, using nperseg = 19\n",
      "  freqs, _, Pxy = _spectral_helper(x, y, fs, window, nperseg, noverlap,\n"
     ]
    },
    {
     "name": "stdout",
     "output_type": "stream",
     "text": [
      "Processing file: 15-MFCC.csv\n"
     ]
    },
    {
     "name": "stderr",
     "output_type": "stream",
     "text": [
      "d:\\MY FILES\\IITB\\Sem 3\\DS203\\env\\Lib\\site-packages\\scipy\\signal\\_spectral_py.py:600: UserWarning: nperseg = 256 is greater than input length  = 19, using nperseg = 19\n",
      "  freqs, _, Pxy = _spectral_helper(x, y, fs, window, nperseg, noverlap,\n"
     ]
    },
    {
     "name": "stdout",
     "output_type": "stream",
     "text": [
      "Processing file: 16-MFCC.csv\n"
     ]
    },
    {
     "name": "stderr",
     "output_type": "stream",
     "text": [
      "d:\\MY FILES\\IITB\\Sem 3\\DS203\\env\\Lib\\site-packages\\statsmodels\\tsa\\stattools.py:693: RuntimeWarning: invalid value encountered in divide\n",
      "  acf = avf[: nlags + 1] / avf[0]\n",
      "d:\\MY FILES\\IITB\\Sem 3\\DS203\\env\\Lib\\site-packages\\scipy\\signal\\_spectral_py.py:600: UserWarning: nperseg = 256 is greater than input length  = 19, using nperseg = 19\n",
      "  freqs, _, Pxy = _spectral_helper(x, y, fs, window, nperseg, noverlap,\n",
      "C:\\Users\\Ronak\\AppData\\Local\\Temp\\ipykernel_32476\\376018993.py:201: RuntimeWarning: invalid value encountered in scalar divide\n",
      "  clarity_score = np.mean(np.abs(transitions)) / np.std(transitions)\n",
      "C:\\Users\\Ronak\\AppData\\Local\\Temp\\ipykernel_32476\\376018993.py:230: RuntimeWarning: invalid value encountered in scalar divide\n",
      "  emotional_range = np.max(modulation) / np.mean(modulation)\n"
     ]
    },
    {
     "name": "stdout",
     "output_type": "stream",
     "text": [
      "Processing file: 17-MFCC.csv\n"
     ]
    },
    {
     "name": "stderr",
     "output_type": "stream",
     "text": [
      "d:\\MY FILES\\IITB\\Sem 3\\DS203\\env\\Lib\\site-packages\\scipy\\signal\\_spectral_py.py:600: UserWarning: nperseg = 256 is greater than input length  = 19, using nperseg = 19\n",
      "  freqs, _, Pxy = _spectral_helper(x, y, fs, window, nperseg, noverlap,\n"
     ]
    },
    {
     "name": "stdout",
     "output_type": "stream",
     "text": [
      "Processing file: 18-MFCC.csv\n"
     ]
    },
    {
     "name": "stderr",
     "output_type": "stream",
     "text": [
      "d:\\MY FILES\\IITB\\Sem 3\\DS203\\env\\Lib\\site-packages\\scipy\\signal\\_spectral_py.py:600: UserWarning: nperseg = 256 is greater than input length  = 19, using nperseg = 19\n",
      "  freqs, _, Pxy = _spectral_helper(x, y, fs, window, nperseg, noverlap,\n"
     ]
    },
    {
     "name": "stdout",
     "output_type": "stream",
     "text": [
      "Processing file: 19-MFCC.csv\n"
     ]
    },
    {
     "name": "stderr",
     "output_type": "stream",
     "text": [
      "d:\\MY FILES\\IITB\\Sem 3\\DS203\\env\\Lib\\site-packages\\statsmodels\\tsa\\stattools.py:693: RuntimeWarning: invalid value encountered in divide\n",
      "  acf = avf[: nlags + 1] / avf[0]\n",
      "d:\\MY FILES\\IITB\\Sem 3\\DS203\\env\\Lib\\site-packages\\scipy\\signal\\_spectral_py.py:600: UserWarning: nperseg = 256 is greater than input length  = 19, using nperseg = 19\n",
      "  freqs, _, Pxy = _spectral_helper(x, y, fs, window, nperseg, noverlap,\n",
      "C:\\Users\\Ronak\\AppData\\Local\\Temp\\ipykernel_32476\\376018993.py:201: RuntimeWarning: invalid value encountered in scalar divide\n",
      "  clarity_score = np.mean(np.abs(transitions)) / np.std(transitions)\n",
      "C:\\Users\\Ronak\\AppData\\Local\\Temp\\ipykernel_32476\\376018993.py:230: RuntimeWarning: invalid value encountered in scalar divide\n",
      "  emotional_range = np.max(modulation) / np.mean(modulation)\n"
     ]
    },
    {
     "name": "stdout",
     "output_type": "stream",
     "text": [
      "Processing file: 20-MFCC.csv\n"
     ]
    },
    {
     "name": "stderr",
     "output_type": "stream",
     "text": [
      "d:\\MY FILES\\IITB\\Sem 3\\DS203\\env\\Lib\\site-packages\\numpy\\_core\\_methods.py:218: RuntimeWarning: Degrees of freedom <= 0 for slice\n",
      "  ret = _var(a, axis=axis, dtype=dtype, out=out, ddof=ddof,\n",
      "d:\\MY FILES\\IITB\\Sem 3\\DS203\\env\\Lib\\site-packages\\numpy\\_core\\_methods.py:175: RuntimeWarning: invalid value encountered in divide\n",
      "  arrmean = um.true_divide(arrmean, div, out=arrmean,\n",
      "d:\\MY FILES\\IITB\\Sem 3\\DS203\\env\\Lib\\site-packages\\numpy\\_core\\_methods.py:210: RuntimeWarning: invalid value encountered in scalar divide\n",
      "  ret = ret.dtype.type(ret / rcount)\n",
      "d:\\MY FILES\\IITB\\Sem 3\\DS203\\env\\Lib\\site-packages\\scipy\\signal\\_spectral_py.py:600: UserWarning: nperseg = 256 is greater than input length  = 19, using nperseg = 19\n",
      "  freqs, _, Pxy = _spectral_helper(x, y, fs, window, nperseg, noverlap,\n"
     ]
    },
    {
     "name": "stdout",
     "output_type": "stream",
     "text": [
      "Processing file: 21-MFCC.csv\n"
     ]
    },
    {
     "name": "stderr",
     "output_type": "stream",
     "text": [
      "d:\\MY FILES\\IITB\\Sem 3\\DS203\\env\\Lib\\site-packages\\statsmodels\\tsa\\stattools.py:693: RuntimeWarning: invalid value encountered in divide\n",
      "  acf = avf[: nlags + 1] / avf[0]\n",
      "d:\\MY FILES\\IITB\\Sem 3\\DS203\\env\\Lib\\site-packages\\scipy\\signal\\_spectral_py.py:600: UserWarning: nperseg = 256 is greater than input length  = 19, using nperseg = 19\n",
      "  freqs, _, Pxy = _spectral_helper(x, y, fs, window, nperseg, noverlap,\n",
      "C:\\Users\\Ronak\\AppData\\Local\\Temp\\ipykernel_32476\\376018993.py:201: RuntimeWarning: invalid value encountered in scalar divide\n",
      "  clarity_score = np.mean(np.abs(transitions)) / np.std(transitions)\n",
      "C:\\Users\\Ronak\\AppData\\Local\\Temp\\ipykernel_32476\\376018993.py:230: RuntimeWarning: invalid value encountered in scalar divide\n",
      "  emotional_range = np.max(modulation) / np.mean(modulation)\n"
     ]
    },
    {
     "name": "stdout",
     "output_type": "stream",
     "text": [
      "Processing file: 22-MFCC.csv\n"
     ]
    },
    {
     "name": "stderr",
     "output_type": "stream",
     "text": [
      "d:\\MY FILES\\IITB\\Sem 3\\DS203\\env\\Lib\\site-packages\\statsmodels\\tsa\\stattools.py:693: RuntimeWarning: invalid value encountered in divide\n",
      "  acf = avf[: nlags + 1] / avf[0]\n",
      "d:\\MY FILES\\IITB\\Sem 3\\DS203\\env\\Lib\\site-packages\\scipy\\signal\\_spectral_py.py:600: UserWarning: nperseg = 256 is greater than input length  = 19, using nperseg = 19\n",
      "  freqs, _, Pxy = _spectral_helper(x, y, fs, window, nperseg, noverlap,\n",
      "C:\\Users\\Ronak\\AppData\\Local\\Temp\\ipykernel_32476\\376018993.py:201: RuntimeWarning: invalid value encountered in scalar divide\n",
      "  clarity_score = np.mean(np.abs(transitions)) / np.std(transitions)\n",
      "C:\\Users\\Ronak\\AppData\\Local\\Temp\\ipykernel_32476\\376018993.py:230: RuntimeWarning: invalid value encountered in scalar divide\n",
      "  emotional_range = np.max(modulation) / np.mean(modulation)\n"
     ]
    },
    {
     "name": "stdout",
     "output_type": "stream",
     "text": [
      "Processing file: 23-MFCC.csv\n"
     ]
    },
    {
     "name": "stderr",
     "output_type": "stream",
     "text": [
      "d:\\MY FILES\\IITB\\Sem 3\\DS203\\env\\Lib\\site-packages\\numpy\\_core\\_methods.py:218: RuntimeWarning: Degrees of freedom <= 0 for slice\n",
      "  ret = _var(a, axis=axis, dtype=dtype, out=out, ddof=ddof,\n",
      "d:\\MY FILES\\IITB\\Sem 3\\DS203\\env\\Lib\\site-packages\\numpy\\_core\\_methods.py:175: RuntimeWarning: invalid value encountered in divide\n",
      "  arrmean = um.true_divide(arrmean, div, out=arrmean,\n",
      "d:\\MY FILES\\IITB\\Sem 3\\DS203\\env\\Lib\\site-packages\\numpy\\_core\\_methods.py:210: RuntimeWarning: invalid value encountered in scalar divide\n",
      "  ret = ret.dtype.type(ret / rcount)\n",
      "d:\\MY FILES\\IITB\\Sem 3\\DS203\\env\\Lib\\site-packages\\scipy\\signal\\_spectral_py.py:600: UserWarning: nperseg = 256 is greater than input length  = 19, using nperseg = 19\n",
      "  freqs, _, Pxy = _spectral_helper(x, y, fs, window, nperseg, noverlap,\n"
     ]
    },
    {
     "name": "stdout",
     "output_type": "stream",
     "text": [
      "Processing file: 24-MFCC.csv\n"
     ]
    },
    {
     "name": "stderr",
     "output_type": "stream",
     "text": [
      "d:\\MY FILES\\IITB\\Sem 3\\DS203\\env\\Lib\\site-packages\\statsmodels\\tsa\\stattools.py:693: RuntimeWarning: invalid value encountered in divide\n",
      "  acf = avf[: nlags + 1] / avf[0]\n",
      "d:\\MY FILES\\IITB\\Sem 3\\DS203\\env\\Lib\\site-packages\\scipy\\signal\\_spectral_py.py:600: UserWarning: nperseg = 256 is greater than input length  = 19, using nperseg = 19\n",
      "  freqs, _, Pxy = _spectral_helper(x, y, fs, window, nperseg, noverlap,\n",
      "C:\\Users\\Ronak\\AppData\\Local\\Temp\\ipykernel_32476\\376018993.py:201: RuntimeWarning: invalid value encountered in scalar divide\n",
      "  clarity_score = np.mean(np.abs(transitions)) / np.std(transitions)\n",
      "C:\\Users\\Ronak\\AppData\\Local\\Temp\\ipykernel_32476\\376018993.py:230: RuntimeWarning: invalid value encountered in scalar divide\n",
      "  emotional_range = np.max(modulation) / np.mean(modulation)\n"
     ]
    },
    {
     "name": "stdout",
     "output_type": "stream",
     "text": [
      "Processing file: 25-MFCC.csv\n"
     ]
    },
    {
     "name": "stderr",
     "output_type": "stream",
     "text": [
      "d:\\MY FILES\\IITB\\Sem 3\\DS203\\env\\Lib\\site-packages\\statsmodels\\tsa\\stattools.py:693: RuntimeWarning: invalid value encountered in divide\n",
      "  acf = avf[: nlags + 1] / avf[0]\n",
      "d:\\MY FILES\\IITB\\Sem 3\\DS203\\env\\Lib\\site-packages\\scipy\\signal\\_spectral_py.py:600: UserWarning: nperseg = 256 is greater than input length  = 19, using nperseg = 19\n",
      "  freqs, _, Pxy = _spectral_helper(x, y, fs, window, nperseg, noverlap,\n",
      "C:\\Users\\Ronak\\AppData\\Local\\Temp\\ipykernel_32476\\376018993.py:201: RuntimeWarning: invalid value encountered in scalar divide\n",
      "  clarity_score = np.mean(np.abs(transitions)) / np.std(transitions)\n",
      "C:\\Users\\Ronak\\AppData\\Local\\Temp\\ipykernel_32476\\376018993.py:230: RuntimeWarning: invalid value encountered in scalar divide\n",
      "  emotional_range = np.max(modulation) / np.mean(modulation)\n"
     ]
    },
    {
     "name": "stdout",
     "output_type": "stream",
     "text": [
      "Processing file: 26-MFCC.csv\n"
     ]
    },
    {
     "name": "stderr",
     "output_type": "stream",
     "text": [
      "d:\\MY FILES\\IITB\\Sem 3\\DS203\\env\\Lib\\site-packages\\scipy\\signal\\_spectral_py.py:600: UserWarning: nperseg = 256 is greater than input length  = 19, using nperseg = 19\n",
      "  freqs, _, Pxy = _spectral_helper(x, y, fs, window, nperseg, noverlap,\n"
     ]
    },
    {
     "name": "stdout",
     "output_type": "stream",
     "text": [
      "Processing file: 27-MFCC.csv\n"
     ]
    },
    {
     "name": "stderr",
     "output_type": "stream",
     "text": [
      "d:\\MY FILES\\IITB\\Sem 3\\DS203\\env\\Lib\\site-packages\\numpy\\_core\\_methods.py:218: RuntimeWarning: Degrees of freedom <= 0 for slice\n",
      "  ret = _var(a, axis=axis, dtype=dtype, out=out, ddof=ddof,\n",
      "d:\\MY FILES\\IITB\\Sem 3\\DS203\\env\\Lib\\site-packages\\numpy\\_core\\_methods.py:175: RuntimeWarning: invalid value encountered in divide\n",
      "  arrmean = um.true_divide(arrmean, div, out=arrmean,\n",
      "d:\\MY FILES\\IITB\\Sem 3\\DS203\\env\\Lib\\site-packages\\numpy\\_core\\_methods.py:210: RuntimeWarning: invalid value encountered in scalar divide\n",
      "  ret = ret.dtype.type(ret / rcount)\n",
      "d:\\MY FILES\\IITB\\Sem 3\\DS203\\env\\Lib\\site-packages\\scipy\\signal\\_spectral_py.py:600: UserWarning: nperseg = 256 is greater than input length  = 19, using nperseg = 19\n",
      "  freqs, _, Pxy = _spectral_helper(x, y, fs, window, nperseg, noverlap,\n"
     ]
    },
    {
     "name": "stdout",
     "output_type": "stream",
     "text": [
      "Processing file: 28-MFCC.csv\n"
     ]
    },
    {
     "name": "stderr",
     "output_type": "stream",
     "text": [
      "d:\\MY FILES\\IITB\\Sem 3\\DS203\\env\\Lib\\site-packages\\scipy\\signal\\_spectral_py.py:600: UserWarning: nperseg = 256 is greater than input length  = 19, using nperseg = 19\n",
      "  freqs, _, Pxy = _spectral_helper(x, y, fs, window, nperseg, noverlap,\n"
     ]
    },
    {
     "name": "stdout",
     "output_type": "stream",
     "text": [
      "Processing file: 29-MFCC.csv\n"
     ]
    },
    {
     "name": "stderr",
     "output_type": "stream",
     "text": [
      "d:\\MY FILES\\IITB\\Sem 3\\DS203\\env\\Lib\\site-packages\\numpy\\_core\\_methods.py:218: RuntimeWarning: Degrees of freedom <= 0 for slice\n",
      "  ret = _var(a, axis=axis, dtype=dtype, out=out, ddof=ddof,\n",
      "d:\\MY FILES\\IITB\\Sem 3\\DS203\\env\\Lib\\site-packages\\numpy\\_core\\_methods.py:175: RuntimeWarning: invalid value encountered in divide\n",
      "  arrmean = um.true_divide(arrmean, div, out=arrmean,\n",
      "d:\\MY FILES\\IITB\\Sem 3\\DS203\\env\\Lib\\site-packages\\numpy\\_core\\_methods.py:210: RuntimeWarning: invalid value encountered in scalar divide\n",
      "  ret = ret.dtype.type(ret / rcount)\n",
      "d:\\MY FILES\\IITB\\Sem 3\\DS203\\env\\Lib\\site-packages\\scipy\\signal\\_spectral_py.py:600: UserWarning: nperseg = 256 is greater than input length  = 19, using nperseg = 19\n",
      "  freqs, _, Pxy = _spectral_helper(x, y, fs, window, nperseg, noverlap,\n"
     ]
    },
    {
     "name": "stdout",
     "output_type": "stream",
     "text": [
      "Processing file: 30-MFCC.csv\n"
     ]
    },
    {
     "name": "stderr",
     "output_type": "stream",
     "text": [
      "d:\\MY FILES\\IITB\\Sem 3\\DS203\\env\\Lib\\site-packages\\statsmodels\\tsa\\stattools.py:693: RuntimeWarning: invalid value encountered in divide\n",
      "  acf = avf[: nlags + 1] / avf[0]\n",
      "d:\\MY FILES\\IITB\\Sem 3\\DS203\\env\\Lib\\site-packages\\scipy\\signal\\_spectral_py.py:600: UserWarning: nperseg = 256 is greater than input length  = 19, using nperseg = 19\n",
      "  freqs, _, Pxy = _spectral_helper(x, y, fs, window, nperseg, noverlap,\n",
      "C:\\Users\\Ronak\\AppData\\Local\\Temp\\ipykernel_32476\\376018993.py:201: RuntimeWarning: invalid value encountered in scalar divide\n",
      "  clarity_score = np.mean(np.abs(transitions)) / np.std(transitions)\n",
      "C:\\Users\\Ronak\\AppData\\Local\\Temp\\ipykernel_32476\\376018993.py:230: RuntimeWarning: invalid value encountered in scalar divide\n",
      "  emotional_range = np.max(modulation) / np.mean(modulation)\n"
     ]
    },
    {
     "name": "stdout",
     "output_type": "stream",
     "text": [
      "Processing file: 31-MFCC.csv\n"
     ]
    },
    {
     "name": "stderr",
     "output_type": "stream",
     "text": [
      "d:\\MY FILES\\IITB\\Sem 3\\DS203\\env\\Lib\\site-packages\\scipy\\signal\\_spectral_py.py:600: UserWarning: nperseg = 256 is greater than input length  = 19, using nperseg = 19\n",
      "  freqs, _, Pxy = _spectral_helper(x, y, fs, window, nperseg, noverlap,\n"
     ]
    },
    {
     "name": "stdout",
     "output_type": "stream",
     "text": [
      "Processing file: 32-MFCC.csv\n"
     ]
    },
    {
     "name": "stderr",
     "output_type": "stream",
     "text": [
      "d:\\MY FILES\\IITB\\Sem 3\\DS203\\env\\Lib\\site-packages\\statsmodels\\tsa\\stattools.py:693: RuntimeWarning: invalid value encountered in divide\n",
      "  acf = avf[: nlags + 1] / avf[0]\n",
      "d:\\MY FILES\\IITB\\Sem 3\\DS203\\env\\Lib\\site-packages\\scipy\\signal\\_spectral_py.py:600: UserWarning: nperseg = 256 is greater than input length  = 19, using nperseg = 19\n",
      "  freqs, _, Pxy = _spectral_helper(x, y, fs, window, nperseg, noverlap,\n",
      "C:\\Users\\Ronak\\AppData\\Local\\Temp\\ipykernel_32476\\376018993.py:201: RuntimeWarning: invalid value encountered in scalar divide\n",
      "  clarity_score = np.mean(np.abs(transitions)) / np.std(transitions)\n",
      "C:\\Users\\Ronak\\AppData\\Local\\Temp\\ipykernel_32476\\376018993.py:230: RuntimeWarning: invalid value encountered in scalar divide\n",
      "  emotional_range = np.max(modulation) / np.mean(modulation)\n"
     ]
    },
    {
     "name": "stdout",
     "output_type": "stream",
     "text": [
      "Processing file: 33-MFCC.csv\n"
     ]
    },
    {
     "name": "stderr",
     "output_type": "stream",
     "text": [
      "d:\\MY FILES\\IITB\\Sem 3\\DS203\\env\\Lib\\site-packages\\statsmodels\\tsa\\stattools.py:693: RuntimeWarning: invalid value encountered in divide\n",
      "  acf = avf[: nlags + 1] / avf[0]\n",
      "d:\\MY FILES\\IITB\\Sem 3\\DS203\\env\\Lib\\site-packages\\scipy\\signal\\_spectral_py.py:600: UserWarning: nperseg = 256 is greater than input length  = 19, using nperseg = 19\n",
      "  freqs, _, Pxy = _spectral_helper(x, y, fs, window, nperseg, noverlap,\n",
      "C:\\Users\\Ronak\\AppData\\Local\\Temp\\ipykernel_32476\\376018993.py:201: RuntimeWarning: invalid value encountered in scalar divide\n",
      "  clarity_score = np.mean(np.abs(transitions)) / np.std(transitions)\n",
      "C:\\Users\\Ronak\\AppData\\Local\\Temp\\ipykernel_32476\\376018993.py:230: RuntimeWarning: invalid value encountered in scalar divide\n",
      "  emotional_range = np.max(modulation) / np.mean(modulation)\n"
     ]
    },
    {
     "name": "stdout",
     "output_type": "stream",
     "text": [
      "Processing file: 34-MFCC.csv\n"
     ]
    },
    {
     "name": "stderr",
     "output_type": "stream",
     "text": [
      "d:\\MY FILES\\IITB\\Sem 3\\DS203\\env\\Lib\\site-packages\\numpy\\_core\\_methods.py:218: RuntimeWarning: Degrees of freedom <= 0 for slice\n",
      "  ret = _var(a, axis=axis, dtype=dtype, out=out, ddof=ddof,\n",
      "d:\\MY FILES\\IITB\\Sem 3\\DS203\\env\\Lib\\site-packages\\numpy\\_core\\_methods.py:175: RuntimeWarning: invalid value encountered in divide\n",
      "  arrmean = um.true_divide(arrmean, div, out=arrmean,\n",
      "d:\\MY FILES\\IITB\\Sem 3\\DS203\\env\\Lib\\site-packages\\numpy\\_core\\_methods.py:210: RuntimeWarning: invalid value encountered in scalar divide\n",
      "  ret = ret.dtype.type(ret / rcount)\n",
      "d:\\MY FILES\\IITB\\Sem 3\\DS203\\env\\Lib\\site-packages\\scipy\\signal\\_spectral_py.py:600: UserWarning: nperseg = 256 is greater than input length  = 19, using nperseg = 19\n",
      "  freqs, _, Pxy = _spectral_helper(x, y, fs, window, nperseg, noverlap,\n"
     ]
    },
    {
     "name": "stdout",
     "output_type": "stream",
     "text": [
      "Processing file: 35-MFCC.csv\n"
     ]
    },
    {
     "name": "stderr",
     "output_type": "stream",
     "text": [
      "d:\\MY FILES\\IITB\\Sem 3\\DS203\\env\\Lib\\site-packages\\scipy\\signal\\_spectral_py.py:600: UserWarning: nperseg = 256 is greater than input length  = 19, using nperseg = 19\n",
      "  freqs, _, Pxy = _spectral_helper(x, y, fs, window, nperseg, noverlap,\n"
     ]
    },
    {
     "name": "stdout",
     "output_type": "stream",
     "text": [
      "Processing file: 36-MFCC.csv\n"
     ]
    },
    {
     "name": "stderr",
     "output_type": "stream",
     "text": [
      "d:\\MY FILES\\IITB\\Sem 3\\DS203\\env\\Lib\\site-packages\\numpy\\_core\\_methods.py:218: RuntimeWarning: Degrees of freedom <= 0 for slice\n",
      "  ret = _var(a, axis=axis, dtype=dtype, out=out, ddof=ddof,\n",
      "d:\\MY FILES\\IITB\\Sem 3\\DS203\\env\\Lib\\site-packages\\numpy\\_core\\_methods.py:175: RuntimeWarning: invalid value encountered in divide\n",
      "  arrmean = um.true_divide(arrmean, div, out=arrmean,\n",
      "d:\\MY FILES\\IITB\\Sem 3\\DS203\\env\\Lib\\site-packages\\numpy\\_core\\_methods.py:210: RuntimeWarning: invalid value encountered in scalar divide\n",
      "  ret = ret.dtype.type(ret / rcount)\n",
      "d:\\MY FILES\\IITB\\Sem 3\\DS203\\env\\Lib\\site-packages\\scipy\\signal\\_spectral_py.py:600: UserWarning: nperseg = 256 is greater than input length  = 19, using nperseg = 19\n",
      "  freqs, _, Pxy = _spectral_helper(x, y, fs, window, nperseg, noverlap,\n"
     ]
    },
    {
     "name": "stdout",
     "output_type": "stream",
     "text": [
      "Processing file: 37-MFCC.csv\n"
     ]
    },
    {
     "name": "stderr",
     "output_type": "stream",
     "text": [
      "d:\\MY FILES\\IITB\\Sem 3\\DS203\\env\\Lib\\site-packages\\statsmodels\\tsa\\stattools.py:693: RuntimeWarning: invalid value encountered in divide\n",
      "  acf = avf[: nlags + 1] / avf[0]\n",
      "d:\\MY FILES\\IITB\\Sem 3\\DS203\\env\\Lib\\site-packages\\scipy\\signal\\_spectral_py.py:600: UserWarning: nperseg = 256 is greater than input length  = 19, using nperseg = 19\n",
      "  freqs, _, Pxy = _spectral_helper(x, y, fs, window, nperseg, noverlap,\n",
      "C:\\Users\\Ronak\\AppData\\Local\\Temp\\ipykernel_32476\\376018993.py:201: RuntimeWarning: invalid value encountered in scalar divide\n",
      "  clarity_score = np.mean(np.abs(transitions)) / np.std(transitions)\n",
      "C:\\Users\\Ronak\\AppData\\Local\\Temp\\ipykernel_32476\\376018993.py:230: RuntimeWarning: invalid value encountered in scalar divide\n",
      "  emotional_range = np.max(modulation) / np.mean(modulation)\n"
     ]
    },
    {
     "name": "stdout",
     "output_type": "stream",
     "text": [
      "Processing file: 38-MFCC.csv\n"
     ]
    },
    {
     "name": "stderr",
     "output_type": "stream",
     "text": [
      "d:\\MY FILES\\IITB\\Sem 3\\DS203\\env\\Lib\\site-packages\\numpy\\_core\\_methods.py:218: RuntimeWarning: Degrees of freedom <= 0 for slice\n",
      "  ret = _var(a, axis=axis, dtype=dtype, out=out, ddof=ddof,\n",
      "d:\\MY FILES\\IITB\\Sem 3\\DS203\\env\\Lib\\site-packages\\numpy\\_core\\_methods.py:175: RuntimeWarning: invalid value encountered in divide\n",
      "  arrmean = um.true_divide(arrmean, div, out=arrmean,\n",
      "d:\\MY FILES\\IITB\\Sem 3\\DS203\\env\\Lib\\site-packages\\numpy\\_core\\_methods.py:210: RuntimeWarning: invalid value encountered in scalar divide\n",
      "  ret = ret.dtype.type(ret / rcount)\n",
      "d:\\MY FILES\\IITB\\Sem 3\\DS203\\env\\Lib\\site-packages\\scipy\\signal\\_spectral_py.py:600: UserWarning: nperseg = 256 is greater than input length  = 19, using nperseg = 19\n",
      "  freqs, _, Pxy = _spectral_helper(x, y, fs, window, nperseg, noverlap,\n"
     ]
    },
    {
     "name": "stdout",
     "output_type": "stream",
     "text": [
      "Processing file: 39-MFCC.csv\n"
     ]
    },
    {
     "name": "stderr",
     "output_type": "stream",
     "text": [
      "d:\\MY FILES\\IITB\\Sem 3\\DS203\\env\\Lib\\site-packages\\statsmodels\\tsa\\stattools.py:693: RuntimeWarning: invalid value encountered in divide\n",
      "  acf = avf[: nlags + 1] / avf[0]\n",
      "d:\\MY FILES\\IITB\\Sem 3\\DS203\\env\\Lib\\site-packages\\scipy\\signal\\_spectral_py.py:600: UserWarning: nperseg = 256 is greater than input length  = 19, using nperseg = 19\n",
      "  freqs, _, Pxy = _spectral_helper(x, y, fs, window, nperseg, noverlap,\n",
      "C:\\Users\\Ronak\\AppData\\Local\\Temp\\ipykernel_32476\\376018993.py:201: RuntimeWarning: invalid value encountered in scalar divide\n",
      "  clarity_score = np.mean(np.abs(transitions)) / np.std(transitions)\n",
      "C:\\Users\\Ronak\\AppData\\Local\\Temp\\ipykernel_32476\\376018993.py:230: RuntimeWarning: invalid value encountered in scalar divide\n",
      "  emotional_range = np.max(modulation) / np.mean(modulation)\n"
     ]
    },
    {
     "name": "stdout",
     "output_type": "stream",
     "text": [
      "Processing file: 40-MFCC.csv\n"
     ]
    },
    {
     "name": "stderr",
     "output_type": "stream",
     "text": [
      "d:\\MY FILES\\IITB\\Sem 3\\DS203\\env\\Lib\\site-packages\\scipy\\signal\\_spectral_py.py:600: UserWarning: nperseg = 256 is greater than input length  = 19, using nperseg = 19\n",
      "  freqs, _, Pxy = _spectral_helper(x, y, fs, window, nperseg, noverlap,\n"
     ]
    },
    {
     "name": "stdout",
     "output_type": "stream",
     "text": [
      "Processing file: 41-MFCC.csv\n"
     ]
    },
    {
     "name": "stderr",
     "output_type": "stream",
     "text": [
      "d:\\MY FILES\\IITB\\Sem 3\\DS203\\env\\Lib\\site-packages\\statsmodels\\tsa\\stattools.py:693: RuntimeWarning: invalid value encountered in divide\n",
      "  acf = avf[: nlags + 1] / avf[0]\n",
      "d:\\MY FILES\\IITB\\Sem 3\\DS203\\env\\Lib\\site-packages\\scipy\\signal\\_spectral_py.py:600: UserWarning: nperseg = 256 is greater than input length  = 19, using nperseg = 19\n",
      "  freqs, _, Pxy = _spectral_helper(x, y, fs, window, nperseg, noverlap,\n",
      "C:\\Users\\Ronak\\AppData\\Local\\Temp\\ipykernel_32476\\376018993.py:201: RuntimeWarning: invalid value encountered in scalar divide\n",
      "  clarity_score = np.mean(np.abs(transitions)) / np.std(transitions)\n",
      "C:\\Users\\Ronak\\AppData\\Local\\Temp\\ipykernel_32476\\376018993.py:230: RuntimeWarning: invalid value encountered in scalar divide\n",
      "  emotional_range = np.max(modulation) / np.mean(modulation)\n"
     ]
    },
    {
     "name": "stdout",
     "output_type": "stream",
     "text": [
      "Processing file: 42-MFCC.csv\n"
     ]
    },
    {
     "name": "stderr",
     "output_type": "stream",
     "text": [
      "d:\\MY FILES\\IITB\\Sem 3\\DS203\\env\\Lib\\site-packages\\statsmodels\\tsa\\stattools.py:693: RuntimeWarning: invalid value encountered in divide\n",
      "  acf = avf[: nlags + 1] / avf[0]\n",
      "d:\\MY FILES\\IITB\\Sem 3\\DS203\\env\\Lib\\site-packages\\scipy\\signal\\_spectral_py.py:600: UserWarning: nperseg = 256 is greater than input length  = 19, using nperseg = 19\n",
      "  freqs, _, Pxy = _spectral_helper(x, y, fs, window, nperseg, noverlap,\n",
      "C:\\Users\\Ronak\\AppData\\Local\\Temp\\ipykernel_32476\\376018993.py:201: RuntimeWarning: invalid value encountered in scalar divide\n",
      "  clarity_score = np.mean(np.abs(transitions)) / np.std(transitions)\n",
      "C:\\Users\\Ronak\\AppData\\Local\\Temp\\ipykernel_32476\\376018993.py:230: RuntimeWarning: invalid value encountered in scalar divide\n",
      "  emotional_range = np.max(modulation) / np.mean(modulation)\n"
     ]
    },
    {
     "name": "stdout",
     "output_type": "stream",
     "text": [
      "Processing file: 43-MFCC.csv\n"
     ]
    },
    {
     "name": "stderr",
     "output_type": "stream",
     "text": [
      "d:\\MY FILES\\IITB\\Sem 3\\DS203\\env\\Lib\\site-packages\\scipy\\signal\\_spectral_py.py:600: UserWarning: nperseg = 256 is greater than input length  = 19, using nperseg = 19\n",
      "  freqs, _, Pxy = _spectral_helper(x, y, fs, window, nperseg, noverlap,\n"
     ]
    },
    {
     "name": "stdout",
     "output_type": "stream",
     "text": [
      "Processing file: 44-MFCC.csv\n"
     ]
    },
    {
     "name": "stderr",
     "output_type": "stream",
     "text": [
      "d:\\MY FILES\\IITB\\Sem 3\\DS203\\env\\Lib\\site-packages\\scipy\\signal\\_spectral_py.py:600: UserWarning: nperseg = 256 is greater than input length  = 19, using nperseg = 19\n",
      "  freqs, _, Pxy = _spectral_helper(x, y, fs, window, nperseg, noverlap,\n"
     ]
    },
    {
     "name": "stdout",
     "output_type": "stream",
     "text": [
      "Processing file: 45-MFCC.csv\n"
     ]
    },
    {
     "name": "stderr",
     "output_type": "stream",
     "text": [
      "d:\\MY FILES\\IITB\\Sem 3\\DS203\\env\\Lib\\site-packages\\statsmodels\\tsa\\stattools.py:693: RuntimeWarning: invalid value encountered in divide\n",
      "  acf = avf[: nlags + 1] / avf[0]\n",
      "d:\\MY FILES\\IITB\\Sem 3\\DS203\\env\\Lib\\site-packages\\scipy\\signal\\_spectral_py.py:600: UserWarning: nperseg = 256 is greater than input length  = 19, using nperseg = 19\n",
      "  freqs, _, Pxy = _spectral_helper(x, y, fs, window, nperseg, noverlap,\n",
      "C:\\Users\\Ronak\\AppData\\Local\\Temp\\ipykernel_32476\\376018993.py:201: RuntimeWarning: invalid value encountered in scalar divide\n",
      "  clarity_score = np.mean(np.abs(transitions)) / np.std(transitions)\n",
      "C:\\Users\\Ronak\\AppData\\Local\\Temp\\ipykernel_32476\\376018993.py:230: RuntimeWarning: invalid value encountered in scalar divide\n",
      "  emotional_range = np.max(modulation) / np.mean(modulation)\n"
     ]
    },
    {
     "name": "stdout",
     "output_type": "stream",
     "text": [
      "Processing file: 46-MFCC.csv\n"
     ]
    },
    {
     "name": "stderr",
     "output_type": "stream",
     "text": [
      "d:\\MY FILES\\IITB\\Sem 3\\DS203\\env\\Lib\\site-packages\\scipy\\signal\\_spectral_py.py:600: UserWarning: nperseg = 256 is greater than input length  = 19, using nperseg = 19\n",
      "  freqs, _, Pxy = _spectral_helper(x, y, fs, window, nperseg, noverlap,\n"
     ]
    },
    {
     "name": "stdout",
     "output_type": "stream",
     "text": [
      "Processing file: 47-MFCC.csv\n"
     ]
    },
    {
     "name": "stderr",
     "output_type": "stream",
     "text": [
      "d:\\MY FILES\\IITB\\Sem 3\\DS203\\env\\Lib\\site-packages\\numpy\\_core\\_methods.py:218: RuntimeWarning: Degrees of freedom <= 0 for slice\n",
      "  ret = _var(a, axis=axis, dtype=dtype, out=out, ddof=ddof,\n",
      "d:\\MY FILES\\IITB\\Sem 3\\DS203\\env\\Lib\\site-packages\\numpy\\_core\\_methods.py:175: RuntimeWarning: invalid value encountered in divide\n",
      "  arrmean = um.true_divide(arrmean, div, out=arrmean,\n",
      "d:\\MY FILES\\IITB\\Sem 3\\DS203\\env\\Lib\\site-packages\\numpy\\_core\\_methods.py:210: RuntimeWarning: invalid value encountered in scalar divide\n",
      "  ret = ret.dtype.type(ret / rcount)\n",
      "d:\\MY FILES\\IITB\\Sem 3\\DS203\\env\\Lib\\site-packages\\scipy\\signal\\_spectral_py.py:600: UserWarning: nperseg = 256 is greater than input length  = 19, using nperseg = 19\n",
      "  freqs, _, Pxy = _spectral_helper(x, y, fs, window, nperseg, noverlap,\n"
     ]
    },
    {
     "name": "stdout",
     "output_type": "stream",
     "text": [
      "Processing file: 48-MFCC.csv\n"
     ]
    },
    {
     "name": "stderr",
     "output_type": "stream",
     "text": [
      "d:\\MY FILES\\IITB\\Sem 3\\DS203\\env\\Lib\\site-packages\\statsmodels\\tsa\\stattools.py:693: RuntimeWarning: invalid value encountered in divide\n",
      "  acf = avf[: nlags + 1] / avf[0]\n",
      "d:\\MY FILES\\IITB\\Sem 3\\DS203\\env\\Lib\\site-packages\\scipy\\signal\\_spectral_py.py:600: UserWarning: nperseg = 256 is greater than input length  = 19, using nperseg = 19\n",
      "  freqs, _, Pxy = _spectral_helper(x, y, fs, window, nperseg, noverlap,\n",
      "C:\\Users\\Ronak\\AppData\\Local\\Temp\\ipykernel_32476\\376018993.py:201: RuntimeWarning: invalid value encountered in scalar divide\n",
      "  clarity_score = np.mean(np.abs(transitions)) / np.std(transitions)\n",
      "C:\\Users\\Ronak\\AppData\\Local\\Temp\\ipykernel_32476\\376018993.py:230: RuntimeWarning: invalid value encountered in scalar divide\n",
      "  emotional_range = np.max(modulation) / np.mean(modulation)\n"
     ]
    },
    {
     "name": "stdout",
     "output_type": "stream",
     "text": [
      "Processing file: 49-MFCC.csv\n"
     ]
    },
    {
     "name": "stderr",
     "output_type": "stream",
     "text": [
      "d:\\MY FILES\\IITB\\Sem 3\\DS203\\env\\Lib\\site-packages\\statsmodels\\tsa\\stattools.py:693: RuntimeWarning: invalid value encountered in divide\n",
      "  acf = avf[: nlags + 1] / avf[0]\n",
      "d:\\MY FILES\\IITB\\Sem 3\\DS203\\env\\Lib\\site-packages\\scipy\\signal\\_spectral_py.py:600: UserWarning: nperseg = 256 is greater than input length  = 19, using nperseg = 19\n",
      "  freqs, _, Pxy = _spectral_helper(x, y, fs, window, nperseg, noverlap,\n",
      "C:\\Users\\Ronak\\AppData\\Local\\Temp\\ipykernel_32476\\376018993.py:201: RuntimeWarning: invalid value encountered in scalar divide\n",
      "  clarity_score = np.mean(np.abs(transitions)) / np.std(transitions)\n",
      "C:\\Users\\Ronak\\AppData\\Local\\Temp\\ipykernel_32476\\376018993.py:230: RuntimeWarning: invalid value encountered in scalar divide\n",
      "  emotional_range = np.max(modulation) / np.mean(modulation)\n"
     ]
    },
    {
     "name": "stdout",
     "output_type": "stream",
     "text": [
      "Processing file: 50-MFCC.csv\n"
     ]
    },
    {
     "name": "stderr",
     "output_type": "stream",
     "text": [
      "d:\\MY FILES\\IITB\\Sem 3\\DS203\\env\\Lib\\site-packages\\scipy\\signal\\_spectral_py.py:600: UserWarning: nperseg = 256 is greater than input length  = 19, using nperseg = 19\n",
      "  freqs, _, Pxy = _spectral_helper(x, y, fs, window, nperseg, noverlap,\n"
     ]
    },
    {
     "name": "stdout",
     "output_type": "stream",
     "text": [
      "Processing file: 51-MFCC.csv\n"
     ]
    },
    {
     "name": "stderr",
     "output_type": "stream",
     "text": [
      "d:\\MY FILES\\IITB\\Sem 3\\DS203\\env\\Lib\\site-packages\\numpy\\_core\\_methods.py:218: RuntimeWarning: Degrees of freedom <= 0 for slice\n",
      "  ret = _var(a, axis=axis, dtype=dtype, out=out, ddof=ddof,\n",
      "d:\\MY FILES\\IITB\\Sem 3\\DS203\\env\\Lib\\site-packages\\numpy\\_core\\_methods.py:175: RuntimeWarning: invalid value encountered in divide\n",
      "  arrmean = um.true_divide(arrmean, div, out=arrmean,\n",
      "d:\\MY FILES\\IITB\\Sem 3\\DS203\\env\\Lib\\site-packages\\numpy\\_core\\_methods.py:210: RuntimeWarning: invalid value encountered in scalar divide\n",
      "  ret = ret.dtype.type(ret / rcount)\n",
      "d:\\MY FILES\\IITB\\Sem 3\\DS203\\env\\Lib\\site-packages\\scipy\\signal\\_spectral_py.py:600: UserWarning: nperseg = 256 is greater than input length  = 19, using nperseg = 19\n",
      "  freqs, _, Pxy = _spectral_helper(x, y, fs, window, nperseg, noverlap,\n"
     ]
    },
    {
     "name": "stdout",
     "output_type": "stream",
     "text": [
      "Processing file: 52-MFCC.csv\n"
     ]
    },
    {
     "name": "stderr",
     "output_type": "stream",
     "text": [
      "d:\\MY FILES\\IITB\\Sem 3\\DS203\\env\\Lib\\site-packages\\statsmodels\\tsa\\stattools.py:693: RuntimeWarning: invalid value encountered in divide\n",
      "  acf = avf[: nlags + 1] / avf[0]\n",
      "d:\\MY FILES\\IITB\\Sem 3\\DS203\\env\\Lib\\site-packages\\scipy\\signal\\_spectral_py.py:600: UserWarning: nperseg = 256 is greater than input length  = 19, using nperseg = 19\n",
      "  freqs, _, Pxy = _spectral_helper(x, y, fs, window, nperseg, noverlap,\n",
      "C:\\Users\\Ronak\\AppData\\Local\\Temp\\ipykernel_32476\\376018993.py:201: RuntimeWarning: invalid value encountered in scalar divide\n",
      "  clarity_score = np.mean(np.abs(transitions)) / np.std(transitions)\n",
      "C:\\Users\\Ronak\\AppData\\Local\\Temp\\ipykernel_32476\\376018993.py:230: RuntimeWarning: invalid value encountered in scalar divide\n",
      "  emotional_range = np.max(modulation) / np.mean(modulation)\n"
     ]
    },
    {
     "name": "stdout",
     "output_type": "stream",
     "text": [
      "Processing file: 53-MFCC.csv\n"
     ]
    },
    {
     "name": "stderr",
     "output_type": "stream",
     "text": [
      "d:\\MY FILES\\IITB\\Sem 3\\DS203\\env\\Lib\\site-packages\\statsmodels\\tsa\\stattools.py:693: RuntimeWarning: invalid value encountered in divide\n",
      "  acf = avf[: nlags + 1] / avf[0]\n",
      "d:\\MY FILES\\IITB\\Sem 3\\DS203\\env\\Lib\\site-packages\\scipy\\signal\\_spectral_py.py:600: UserWarning: nperseg = 256 is greater than input length  = 19, using nperseg = 19\n",
      "  freqs, _, Pxy = _spectral_helper(x, y, fs, window, nperseg, noverlap,\n",
      "C:\\Users\\Ronak\\AppData\\Local\\Temp\\ipykernel_32476\\376018993.py:201: RuntimeWarning: invalid value encountered in scalar divide\n",
      "  clarity_score = np.mean(np.abs(transitions)) / np.std(transitions)\n",
      "C:\\Users\\Ronak\\AppData\\Local\\Temp\\ipykernel_32476\\376018993.py:230: RuntimeWarning: invalid value encountered in scalar divide\n",
      "  emotional_range = np.max(modulation) / np.mean(modulation)\n"
     ]
    },
    {
     "name": "stdout",
     "output_type": "stream",
     "text": [
      "Processing file: 54-MFCC.csv\n"
     ]
    },
    {
     "name": "stderr",
     "output_type": "stream",
     "text": [
      "d:\\MY FILES\\IITB\\Sem 3\\DS203\\env\\Lib\\site-packages\\statsmodels\\tsa\\stattools.py:693: RuntimeWarning: invalid value encountered in divide\n",
      "  acf = avf[: nlags + 1] / avf[0]\n",
      "d:\\MY FILES\\IITB\\Sem 3\\DS203\\env\\Lib\\site-packages\\scipy\\signal\\_spectral_py.py:600: UserWarning: nperseg = 256 is greater than input length  = 19, using nperseg = 19\n",
      "  freqs, _, Pxy = _spectral_helper(x, y, fs, window, nperseg, noverlap,\n",
      "C:\\Users\\Ronak\\AppData\\Local\\Temp\\ipykernel_32476\\376018993.py:201: RuntimeWarning: invalid value encountered in scalar divide\n",
      "  clarity_score = np.mean(np.abs(transitions)) / np.std(transitions)\n",
      "C:\\Users\\Ronak\\AppData\\Local\\Temp\\ipykernel_32476\\376018993.py:230: RuntimeWarning: invalid value encountered in scalar divide\n",
      "  emotional_range = np.max(modulation) / np.mean(modulation)\n"
     ]
    },
    {
     "name": "stdout",
     "output_type": "stream",
     "text": [
      "Processing file: 55-MFCC.csv\n"
     ]
    },
    {
     "name": "stderr",
     "output_type": "stream",
     "text": [
      "d:\\MY FILES\\IITB\\Sem 3\\DS203\\env\\Lib\\site-packages\\statsmodels\\tsa\\stattools.py:693: RuntimeWarning: invalid value encountered in divide\n",
      "  acf = avf[: nlags + 1] / avf[0]\n",
      "d:\\MY FILES\\IITB\\Sem 3\\DS203\\env\\Lib\\site-packages\\scipy\\signal\\_spectral_py.py:600: UserWarning: nperseg = 256 is greater than input length  = 19, using nperseg = 19\n",
      "  freqs, _, Pxy = _spectral_helper(x, y, fs, window, nperseg, noverlap,\n",
      "C:\\Users\\Ronak\\AppData\\Local\\Temp\\ipykernel_32476\\376018993.py:201: RuntimeWarning: invalid value encountered in scalar divide\n",
      "  clarity_score = np.mean(np.abs(transitions)) / np.std(transitions)\n",
      "C:\\Users\\Ronak\\AppData\\Local\\Temp\\ipykernel_32476\\376018993.py:230: RuntimeWarning: invalid value encountered in scalar divide\n",
      "  emotional_range = np.max(modulation) / np.mean(modulation)\n"
     ]
    },
    {
     "name": "stdout",
     "output_type": "stream",
     "text": [
      "Processing file: 56-MFCC.csv\n"
     ]
    },
    {
     "name": "stderr",
     "output_type": "stream",
     "text": [
      "d:\\MY FILES\\IITB\\Sem 3\\DS203\\env\\Lib\\site-packages\\statsmodels\\tsa\\stattools.py:693: RuntimeWarning: invalid value encountered in divide\n",
      "  acf = avf[: nlags + 1] / avf[0]\n",
      "d:\\MY FILES\\IITB\\Sem 3\\DS203\\env\\Lib\\site-packages\\scipy\\signal\\_spectral_py.py:600: UserWarning: nperseg = 256 is greater than input length  = 19, using nperseg = 19\n",
      "  freqs, _, Pxy = _spectral_helper(x, y, fs, window, nperseg, noverlap,\n",
      "C:\\Users\\Ronak\\AppData\\Local\\Temp\\ipykernel_32476\\376018993.py:201: RuntimeWarning: invalid value encountered in scalar divide\n",
      "  clarity_score = np.mean(np.abs(transitions)) / np.std(transitions)\n",
      "C:\\Users\\Ronak\\AppData\\Local\\Temp\\ipykernel_32476\\376018993.py:230: RuntimeWarning: invalid value encountered in scalar divide\n",
      "  emotional_range = np.max(modulation) / np.mean(modulation)\n"
     ]
    },
    {
     "name": "stdout",
     "output_type": "stream",
     "text": [
      "Processing file: 57-MFCC.csv\n"
     ]
    },
    {
     "name": "stderr",
     "output_type": "stream",
     "text": [
      "d:\\MY FILES\\IITB\\Sem 3\\DS203\\env\\Lib\\site-packages\\scipy\\signal\\_spectral_py.py:600: UserWarning: nperseg = 256 is greater than input length  = 19, using nperseg = 19\n",
      "  freqs, _, Pxy = _spectral_helper(x, y, fs, window, nperseg, noverlap,\n"
     ]
    },
    {
     "name": "stdout",
     "output_type": "stream",
     "text": [
      "Processing file: 58-MFCC.csv\n"
     ]
    },
    {
     "name": "stderr",
     "output_type": "stream",
     "text": [
      "d:\\MY FILES\\IITB\\Sem 3\\DS203\\env\\Lib\\site-packages\\statsmodels\\tsa\\stattools.py:693: RuntimeWarning: invalid value encountered in divide\n",
      "  acf = avf[: nlags + 1] / avf[0]\n",
      "d:\\MY FILES\\IITB\\Sem 3\\DS203\\env\\Lib\\site-packages\\scipy\\signal\\_spectral_py.py:600: UserWarning: nperseg = 256 is greater than input length  = 19, using nperseg = 19\n",
      "  freqs, _, Pxy = _spectral_helper(x, y, fs, window, nperseg, noverlap,\n",
      "C:\\Users\\Ronak\\AppData\\Local\\Temp\\ipykernel_32476\\376018993.py:201: RuntimeWarning: invalid value encountered in scalar divide\n",
      "  clarity_score = np.mean(np.abs(transitions)) / np.std(transitions)\n",
      "C:\\Users\\Ronak\\AppData\\Local\\Temp\\ipykernel_32476\\376018993.py:230: RuntimeWarning: invalid value encountered in scalar divide\n",
      "  emotional_range = np.max(modulation) / np.mean(modulation)\n"
     ]
    },
    {
     "name": "stdout",
     "output_type": "stream",
     "text": [
      "Processing file: 59-MFCC.csv\n"
     ]
    },
    {
     "name": "stderr",
     "output_type": "stream",
     "text": [
      "d:\\MY FILES\\IITB\\Sem 3\\DS203\\env\\Lib\\site-packages\\numpy\\_core\\_methods.py:218: RuntimeWarning: Degrees of freedom <= 0 for slice\n",
      "  ret = _var(a, axis=axis, dtype=dtype, out=out, ddof=ddof,\n",
      "d:\\MY FILES\\IITB\\Sem 3\\DS203\\env\\Lib\\site-packages\\numpy\\_core\\_methods.py:175: RuntimeWarning: invalid value encountered in divide\n",
      "  arrmean = um.true_divide(arrmean, div, out=arrmean,\n",
      "d:\\MY FILES\\IITB\\Sem 3\\DS203\\env\\Lib\\site-packages\\numpy\\_core\\_methods.py:210: RuntimeWarning: invalid value encountered in scalar divide\n",
      "  ret = ret.dtype.type(ret / rcount)\n",
      "d:\\MY FILES\\IITB\\Sem 3\\DS203\\env\\Lib\\site-packages\\scipy\\signal\\_spectral_py.py:600: UserWarning: nperseg = 256 is greater than input length  = 19, using nperseg = 19\n",
      "  freqs, _, Pxy = _spectral_helper(x, y, fs, window, nperseg, noverlap,\n"
     ]
    },
    {
     "name": "stdout",
     "output_type": "stream",
     "text": [
      "Processing file: 60-MFCC.csv\n"
     ]
    },
    {
     "name": "stderr",
     "output_type": "stream",
     "text": [
      "d:\\MY FILES\\IITB\\Sem 3\\DS203\\env\\Lib\\site-packages\\scipy\\signal\\_spectral_py.py:600: UserWarning: nperseg = 256 is greater than input length  = 19, using nperseg = 19\n",
      "  freqs, _, Pxy = _spectral_helper(x, y, fs, window, nperseg, noverlap,\n"
     ]
    },
    {
     "name": "stdout",
     "output_type": "stream",
     "text": [
      "Processing file: 61-MFCC.csv\n"
     ]
    },
    {
     "name": "stderr",
     "output_type": "stream",
     "text": [
      "d:\\MY FILES\\IITB\\Sem 3\\DS203\\env\\Lib\\site-packages\\numpy\\_core\\_methods.py:218: RuntimeWarning: Degrees of freedom <= 0 for slice\n",
      "  ret = _var(a, axis=axis, dtype=dtype, out=out, ddof=ddof,\n",
      "d:\\MY FILES\\IITB\\Sem 3\\DS203\\env\\Lib\\site-packages\\numpy\\_core\\_methods.py:175: RuntimeWarning: invalid value encountered in divide\n",
      "  arrmean = um.true_divide(arrmean, div, out=arrmean,\n",
      "d:\\MY FILES\\IITB\\Sem 3\\DS203\\env\\Lib\\site-packages\\numpy\\_core\\_methods.py:210: RuntimeWarning: invalid value encountered in scalar divide\n",
      "  ret = ret.dtype.type(ret / rcount)\n",
      "d:\\MY FILES\\IITB\\Sem 3\\DS203\\env\\Lib\\site-packages\\scipy\\signal\\_spectral_py.py:600: UserWarning: nperseg = 256 is greater than input length  = 19, using nperseg = 19\n",
      "  freqs, _, Pxy = _spectral_helper(x, y, fs, window, nperseg, noverlap,\n"
     ]
    },
    {
     "name": "stdout",
     "output_type": "stream",
     "text": [
      "Processing file: 62-MFCC.csv\n"
     ]
    },
    {
     "name": "stderr",
     "output_type": "stream",
     "text": [
      "d:\\MY FILES\\IITB\\Sem 3\\DS203\\env\\Lib\\site-packages\\statsmodels\\tsa\\stattools.py:693: RuntimeWarning: invalid value encountered in divide\n",
      "  acf = avf[: nlags + 1] / avf[0]\n",
      "d:\\MY FILES\\IITB\\Sem 3\\DS203\\env\\Lib\\site-packages\\scipy\\signal\\_spectral_py.py:600: UserWarning: nperseg = 256 is greater than input length  = 19, using nperseg = 19\n",
      "  freqs, _, Pxy = _spectral_helper(x, y, fs, window, nperseg, noverlap,\n",
      "C:\\Users\\Ronak\\AppData\\Local\\Temp\\ipykernel_32476\\376018993.py:201: RuntimeWarning: invalid value encountered in scalar divide\n",
      "  clarity_score = np.mean(np.abs(transitions)) / np.std(transitions)\n",
      "C:\\Users\\Ronak\\AppData\\Local\\Temp\\ipykernel_32476\\376018993.py:230: RuntimeWarning: invalid value encountered in scalar divide\n",
      "  emotional_range = np.max(modulation) / np.mean(modulation)\n"
     ]
    },
    {
     "name": "stdout",
     "output_type": "stream",
     "text": [
      "Processing file: 63-MFCC.csv\n"
     ]
    },
    {
     "name": "stderr",
     "output_type": "stream",
     "text": [
      "d:\\MY FILES\\IITB\\Sem 3\\DS203\\env\\Lib\\site-packages\\scipy\\signal\\_spectral_py.py:600: UserWarning: nperseg = 256 is greater than input length  = 19, using nperseg = 19\n",
      "  freqs, _, Pxy = _spectral_helper(x, y, fs, window, nperseg, noverlap,\n"
     ]
    },
    {
     "name": "stdout",
     "output_type": "stream",
     "text": [
      "Processing file: 64-MFCC.csv\n"
     ]
    },
    {
     "name": "stderr",
     "output_type": "stream",
     "text": [
      "d:\\MY FILES\\IITB\\Sem 3\\DS203\\env\\Lib\\site-packages\\statsmodels\\tsa\\stattools.py:693: RuntimeWarning: invalid value encountered in divide\n",
      "  acf = avf[: nlags + 1] / avf[0]\n",
      "d:\\MY FILES\\IITB\\Sem 3\\DS203\\env\\Lib\\site-packages\\scipy\\signal\\_spectral_py.py:600: UserWarning: nperseg = 256 is greater than input length  = 19, using nperseg = 19\n",
      "  freqs, _, Pxy = _spectral_helper(x, y, fs, window, nperseg, noverlap,\n",
      "C:\\Users\\Ronak\\AppData\\Local\\Temp\\ipykernel_32476\\376018993.py:201: RuntimeWarning: invalid value encountered in scalar divide\n",
      "  clarity_score = np.mean(np.abs(transitions)) / np.std(transitions)\n",
      "C:\\Users\\Ronak\\AppData\\Local\\Temp\\ipykernel_32476\\376018993.py:230: RuntimeWarning: invalid value encountered in scalar divide\n",
      "  emotional_range = np.max(modulation) / np.mean(modulation)\n"
     ]
    },
    {
     "name": "stdout",
     "output_type": "stream",
     "text": [
      "Processing file: 65-MFCC.csv\n"
     ]
    },
    {
     "name": "stderr",
     "output_type": "stream",
     "text": [
      "d:\\MY FILES\\IITB\\Sem 3\\DS203\\env\\Lib\\site-packages\\statsmodels\\tsa\\stattools.py:693: RuntimeWarning: invalid value encountered in divide\n",
      "  acf = avf[: nlags + 1] / avf[0]\n",
      "d:\\MY FILES\\IITB\\Sem 3\\DS203\\env\\Lib\\site-packages\\scipy\\signal\\_spectral_py.py:600: UserWarning: nperseg = 256 is greater than input length  = 19, using nperseg = 19\n",
      "  freqs, _, Pxy = _spectral_helper(x, y, fs, window, nperseg, noverlap,\n",
      "C:\\Users\\Ronak\\AppData\\Local\\Temp\\ipykernel_32476\\376018993.py:201: RuntimeWarning: invalid value encountered in scalar divide\n",
      "  clarity_score = np.mean(np.abs(transitions)) / np.std(transitions)\n",
      "C:\\Users\\Ronak\\AppData\\Local\\Temp\\ipykernel_32476\\376018993.py:230: RuntimeWarning: invalid value encountered in scalar divide\n",
      "  emotional_range = np.max(modulation) / np.mean(modulation)\n"
     ]
    },
    {
     "name": "stdout",
     "output_type": "stream",
     "text": [
      "Processing file: 66-MFCC.csv\n"
     ]
    },
    {
     "name": "stderr",
     "output_type": "stream",
     "text": [
      "d:\\MY FILES\\IITB\\Sem 3\\DS203\\env\\Lib\\site-packages\\numpy\\_core\\_methods.py:218: RuntimeWarning: Degrees of freedom <= 0 for slice\n",
      "  ret = _var(a, axis=axis, dtype=dtype, out=out, ddof=ddof,\n",
      "d:\\MY FILES\\IITB\\Sem 3\\DS203\\env\\Lib\\site-packages\\numpy\\_core\\_methods.py:175: RuntimeWarning: invalid value encountered in divide\n",
      "  arrmean = um.true_divide(arrmean, div, out=arrmean,\n",
      "d:\\MY FILES\\IITB\\Sem 3\\DS203\\env\\Lib\\site-packages\\numpy\\_core\\_methods.py:210: RuntimeWarning: invalid value encountered in scalar divide\n",
      "  ret = ret.dtype.type(ret / rcount)\n",
      "d:\\MY FILES\\IITB\\Sem 3\\DS203\\env\\Lib\\site-packages\\scipy\\signal\\_spectral_py.py:600: UserWarning: nperseg = 256 is greater than input length  = 19, using nperseg = 19\n",
      "  freqs, _, Pxy = _spectral_helper(x, y, fs, window, nperseg, noverlap,\n"
     ]
    },
    {
     "name": "stdout",
     "output_type": "stream",
     "text": [
      "Processing file: 67-MFCC.csv\n"
     ]
    },
    {
     "name": "stderr",
     "output_type": "stream",
     "text": [
      "d:\\MY FILES\\IITB\\Sem 3\\DS203\\env\\Lib\\site-packages\\statsmodels\\tsa\\stattools.py:693: RuntimeWarning: invalid value encountered in divide\n",
      "  acf = avf[: nlags + 1] / avf[0]\n",
      "d:\\MY FILES\\IITB\\Sem 3\\DS203\\env\\Lib\\site-packages\\scipy\\signal\\_spectral_py.py:600: UserWarning: nperseg = 256 is greater than input length  = 19, using nperseg = 19\n",
      "  freqs, _, Pxy = _spectral_helper(x, y, fs, window, nperseg, noverlap,\n",
      "C:\\Users\\Ronak\\AppData\\Local\\Temp\\ipykernel_32476\\376018993.py:201: RuntimeWarning: invalid value encountered in scalar divide\n",
      "  clarity_score = np.mean(np.abs(transitions)) / np.std(transitions)\n",
      "C:\\Users\\Ronak\\AppData\\Local\\Temp\\ipykernel_32476\\376018993.py:230: RuntimeWarning: invalid value encountered in scalar divide\n",
      "  emotional_range = np.max(modulation) / np.mean(modulation)\n"
     ]
    },
    {
     "name": "stdout",
     "output_type": "stream",
     "text": [
      "Processing file: 68-MFCC.csv\n"
     ]
    },
    {
     "name": "stderr",
     "output_type": "stream",
     "text": [
      "d:\\MY FILES\\IITB\\Sem 3\\DS203\\env\\Lib\\site-packages\\statsmodels\\tsa\\stattools.py:693: RuntimeWarning: invalid value encountered in divide\n",
      "  acf = avf[: nlags + 1] / avf[0]\n",
      "d:\\MY FILES\\IITB\\Sem 3\\DS203\\env\\Lib\\site-packages\\scipy\\signal\\_spectral_py.py:600: UserWarning: nperseg = 256 is greater than input length  = 19, using nperseg = 19\n",
      "  freqs, _, Pxy = _spectral_helper(x, y, fs, window, nperseg, noverlap,\n",
      "C:\\Users\\Ronak\\AppData\\Local\\Temp\\ipykernel_32476\\376018993.py:201: RuntimeWarning: invalid value encountered in scalar divide\n",
      "  clarity_score = np.mean(np.abs(transitions)) / np.std(transitions)\n",
      "C:\\Users\\Ronak\\AppData\\Local\\Temp\\ipykernel_32476\\376018993.py:230: RuntimeWarning: invalid value encountered in scalar divide\n",
      "  emotional_range = np.max(modulation) / np.mean(modulation)\n"
     ]
    },
    {
     "name": "stdout",
     "output_type": "stream",
     "text": [
      "Processing file: 69-MFCC.csv\n"
     ]
    },
    {
     "name": "stderr",
     "output_type": "stream",
     "text": [
      "d:\\MY FILES\\IITB\\Sem 3\\DS203\\env\\Lib\\site-packages\\scipy\\signal\\_spectral_py.py:600: UserWarning: nperseg = 256 is greater than input length  = 19, using nperseg = 19\n",
      "  freqs, _, Pxy = _spectral_helper(x, y, fs, window, nperseg, noverlap,\n"
     ]
    },
    {
     "name": "stdout",
     "output_type": "stream",
     "text": [
      "Processing file: 70-MFCC.csv\n"
     ]
    },
    {
     "name": "stderr",
     "output_type": "stream",
     "text": [
      "d:\\MY FILES\\IITB\\Sem 3\\DS203\\env\\Lib\\site-packages\\statsmodels\\tsa\\stattools.py:693: RuntimeWarning: invalid value encountered in divide\n",
      "  acf = avf[: nlags + 1] / avf[0]\n",
      "d:\\MY FILES\\IITB\\Sem 3\\DS203\\env\\Lib\\site-packages\\scipy\\signal\\_spectral_py.py:600: UserWarning: nperseg = 256 is greater than input length  = 19, using nperseg = 19\n",
      "  freqs, _, Pxy = _spectral_helper(x, y, fs, window, nperseg, noverlap,\n",
      "C:\\Users\\Ronak\\AppData\\Local\\Temp\\ipykernel_32476\\376018993.py:201: RuntimeWarning: invalid value encountered in scalar divide\n",
      "  clarity_score = np.mean(np.abs(transitions)) / np.std(transitions)\n",
      "C:\\Users\\Ronak\\AppData\\Local\\Temp\\ipykernel_32476\\376018993.py:230: RuntimeWarning: invalid value encountered in scalar divide\n",
      "  emotional_range = np.max(modulation) / np.mean(modulation)\n"
     ]
    },
    {
     "name": "stdout",
     "output_type": "stream",
     "text": [
      "Processing file: 71-MFCC.csv\n"
     ]
    },
    {
     "name": "stderr",
     "output_type": "stream",
     "text": [
      "d:\\MY FILES\\IITB\\Sem 3\\DS203\\env\\Lib\\site-packages\\numpy\\_core\\_methods.py:218: RuntimeWarning: Degrees of freedom <= 0 for slice\n",
      "  ret = _var(a, axis=axis, dtype=dtype, out=out, ddof=ddof,\n",
      "d:\\MY FILES\\IITB\\Sem 3\\DS203\\env\\Lib\\site-packages\\numpy\\_core\\_methods.py:175: RuntimeWarning: invalid value encountered in divide\n",
      "  arrmean = um.true_divide(arrmean, div, out=arrmean,\n",
      "d:\\MY FILES\\IITB\\Sem 3\\DS203\\env\\Lib\\site-packages\\numpy\\_core\\_methods.py:210: RuntimeWarning: invalid value encountered in scalar divide\n",
      "  ret = ret.dtype.type(ret / rcount)\n",
      "d:\\MY FILES\\IITB\\Sem 3\\DS203\\env\\Lib\\site-packages\\scipy\\signal\\_spectral_py.py:600: UserWarning: nperseg = 256 is greater than input length  = 19, using nperseg = 19\n",
      "  freqs, _, Pxy = _spectral_helper(x, y, fs, window, nperseg, noverlap,\n"
     ]
    },
    {
     "name": "stdout",
     "output_type": "stream",
     "text": [
      "Processing file: 72-MFCC.csv\n"
     ]
    },
    {
     "name": "stderr",
     "output_type": "stream",
     "text": [
      "d:\\MY FILES\\IITB\\Sem 3\\DS203\\env\\Lib\\site-packages\\statsmodels\\tsa\\stattools.py:693: RuntimeWarning: invalid value encountered in divide\n",
      "  acf = avf[: nlags + 1] / avf[0]\n",
      "d:\\MY FILES\\IITB\\Sem 3\\DS203\\env\\Lib\\site-packages\\scipy\\signal\\_spectral_py.py:600: UserWarning: nperseg = 256 is greater than input length  = 19, using nperseg = 19\n",
      "  freqs, _, Pxy = _spectral_helper(x, y, fs, window, nperseg, noverlap,\n",
      "C:\\Users\\Ronak\\AppData\\Local\\Temp\\ipykernel_32476\\376018993.py:201: RuntimeWarning: invalid value encountered in scalar divide\n",
      "  clarity_score = np.mean(np.abs(transitions)) / np.std(transitions)\n",
      "C:\\Users\\Ronak\\AppData\\Local\\Temp\\ipykernel_32476\\376018993.py:230: RuntimeWarning: invalid value encountered in scalar divide\n",
      "  emotional_range = np.max(modulation) / np.mean(modulation)\n"
     ]
    },
    {
     "name": "stdout",
     "output_type": "stream",
     "text": [
      "Processing file: 73-MFCC.csv\n"
     ]
    },
    {
     "name": "stderr",
     "output_type": "stream",
     "text": [
      "d:\\MY FILES\\IITB\\Sem 3\\DS203\\env\\Lib\\site-packages\\statsmodels\\tsa\\stattools.py:693: RuntimeWarning: invalid value encountered in divide\n",
      "  acf = avf[: nlags + 1] / avf[0]\n",
      "d:\\MY FILES\\IITB\\Sem 3\\DS203\\env\\Lib\\site-packages\\scipy\\signal\\_spectral_py.py:600: UserWarning: nperseg = 256 is greater than input length  = 19, using nperseg = 19\n",
      "  freqs, _, Pxy = _spectral_helper(x, y, fs, window, nperseg, noverlap,\n",
      "C:\\Users\\Ronak\\AppData\\Local\\Temp\\ipykernel_32476\\376018993.py:201: RuntimeWarning: invalid value encountered in scalar divide\n",
      "  clarity_score = np.mean(np.abs(transitions)) / np.std(transitions)\n",
      "C:\\Users\\Ronak\\AppData\\Local\\Temp\\ipykernel_32476\\376018993.py:230: RuntimeWarning: invalid value encountered in scalar divide\n",
      "  emotional_range = np.max(modulation) / np.mean(modulation)\n"
     ]
    },
    {
     "name": "stdout",
     "output_type": "stream",
     "text": [
      "Processing file: 74-MFCC.csv\n"
     ]
    },
    {
     "name": "stderr",
     "output_type": "stream",
     "text": [
      "d:\\MY FILES\\IITB\\Sem 3\\DS203\\env\\Lib\\site-packages\\scipy\\signal\\_spectral_py.py:600: UserWarning: nperseg = 256 is greater than input length  = 19, using nperseg = 19\n",
      "  freqs, _, Pxy = _spectral_helper(x, y, fs, window, nperseg, noverlap,\n"
     ]
    },
    {
     "name": "stdout",
     "output_type": "stream",
     "text": [
      "Processing file: 75-MFCC.csv\n"
     ]
    },
    {
     "name": "stderr",
     "output_type": "stream",
     "text": [
      "d:\\MY FILES\\IITB\\Sem 3\\DS203\\env\\Lib\\site-packages\\scipy\\signal\\_spectral_py.py:600: UserWarning: nperseg = 256 is greater than input length  = 19, using nperseg = 19\n",
      "  freqs, _, Pxy = _spectral_helper(x, y, fs, window, nperseg, noverlap,\n"
     ]
    },
    {
     "name": "stdout",
     "output_type": "stream",
     "text": [
      "Processing file: 76-MFCC.csv\n"
     ]
    },
    {
     "name": "stderr",
     "output_type": "stream",
     "text": [
      "d:\\MY FILES\\IITB\\Sem 3\\DS203\\env\\Lib\\site-packages\\statsmodels\\tsa\\stattools.py:693: RuntimeWarning: invalid value encountered in divide\n",
      "  acf = avf[: nlags + 1] / avf[0]\n",
      "d:\\MY FILES\\IITB\\Sem 3\\DS203\\env\\Lib\\site-packages\\scipy\\signal\\_spectral_py.py:600: UserWarning: nperseg = 256 is greater than input length  = 19, using nperseg = 19\n",
      "  freqs, _, Pxy = _spectral_helper(x, y, fs, window, nperseg, noverlap,\n",
      "C:\\Users\\Ronak\\AppData\\Local\\Temp\\ipykernel_32476\\376018993.py:201: RuntimeWarning: invalid value encountered in scalar divide\n",
      "  clarity_score = np.mean(np.abs(transitions)) / np.std(transitions)\n",
      "C:\\Users\\Ronak\\AppData\\Local\\Temp\\ipykernel_32476\\376018993.py:230: RuntimeWarning: invalid value encountered in scalar divide\n",
      "  emotional_range = np.max(modulation) / np.mean(modulation)\n"
     ]
    },
    {
     "name": "stdout",
     "output_type": "stream",
     "text": [
      "Processing file: 77-MFCC.csv\n"
     ]
    },
    {
     "name": "stderr",
     "output_type": "stream",
     "text": [
      "d:\\MY FILES\\IITB\\Sem 3\\DS203\\env\\Lib\\site-packages\\numpy\\_core\\_methods.py:218: RuntimeWarning: Degrees of freedom <= 0 for slice\n",
      "  ret = _var(a, axis=axis, dtype=dtype, out=out, ddof=ddof,\n",
      "d:\\MY FILES\\IITB\\Sem 3\\DS203\\env\\Lib\\site-packages\\numpy\\_core\\_methods.py:175: RuntimeWarning: invalid value encountered in divide\n",
      "  arrmean = um.true_divide(arrmean, div, out=arrmean,\n",
      "d:\\MY FILES\\IITB\\Sem 3\\DS203\\env\\Lib\\site-packages\\numpy\\_core\\_methods.py:210: RuntimeWarning: invalid value encountered in scalar divide\n",
      "  ret = ret.dtype.type(ret / rcount)\n",
      "d:\\MY FILES\\IITB\\Sem 3\\DS203\\env\\Lib\\site-packages\\scipy\\signal\\_spectral_py.py:600: UserWarning: nperseg = 256 is greater than input length  = 19, using nperseg = 19\n",
      "  freqs, _, Pxy = _spectral_helper(x, y, fs, window, nperseg, noverlap,\n"
     ]
    },
    {
     "name": "stdout",
     "output_type": "stream",
     "text": [
      "Processing file: 78-MFCC.csv\n"
     ]
    },
    {
     "name": "stderr",
     "output_type": "stream",
     "text": [
      "d:\\MY FILES\\IITB\\Sem 3\\DS203\\env\\Lib\\site-packages\\numpy\\_core\\_methods.py:218: RuntimeWarning: Degrees of freedom <= 0 for slice\n",
      "  ret = _var(a, axis=axis, dtype=dtype, out=out, ddof=ddof,\n",
      "d:\\MY FILES\\IITB\\Sem 3\\DS203\\env\\Lib\\site-packages\\numpy\\_core\\_methods.py:175: RuntimeWarning: invalid value encountered in divide\n",
      "  arrmean = um.true_divide(arrmean, div, out=arrmean,\n",
      "d:\\MY FILES\\IITB\\Sem 3\\DS203\\env\\Lib\\site-packages\\numpy\\_core\\_methods.py:210: RuntimeWarning: invalid value encountered in scalar divide\n",
      "  ret = ret.dtype.type(ret / rcount)\n",
      "d:\\MY FILES\\IITB\\Sem 3\\DS203\\env\\Lib\\site-packages\\scipy\\signal\\_spectral_py.py:600: UserWarning: nperseg = 256 is greater than input length  = 19, using nperseg = 19\n",
      "  freqs, _, Pxy = _spectral_helper(x, y, fs, window, nperseg, noverlap,\n"
     ]
    },
    {
     "name": "stdout",
     "output_type": "stream",
     "text": [
      "Processing file: 79-MFCC.csv\n"
     ]
    },
    {
     "name": "stderr",
     "output_type": "stream",
     "text": [
      "d:\\MY FILES\\IITB\\Sem 3\\DS203\\env\\Lib\\site-packages\\statsmodels\\tsa\\stattools.py:693: RuntimeWarning: invalid value encountered in divide\n",
      "  acf = avf[: nlags + 1] / avf[0]\n",
      "d:\\MY FILES\\IITB\\Sem 3\\DS203\\env\\Lib\\site-packages\\scipy\\signal\\_spectral_py.py:600: UserWarning: nperseg = 256 is greater than input length  = 19, using nperseg = 19\n",
      "  freqs, _, Pxy = _spectral_helper(x, y, fs, window, nperseg, noverlap,\n",
      "C:\\Users\\Ronak\\AppData\\Local\\Temp\\ipykernel_32476\\376018993.py:201: RuntimeWarning: invalid value encountered in scalar divide\n",
      "  clarity_score = np.mean(np.abs(transitions)) / np.std(transitions)\n",
      "C:\\Users\\Ronak\\AppData\\Local\\Temp\\ipykernel_32476\\376018993.py:230: RuntimeWarning: invalid value encountered in scalar divide\n",
      "  emotional_range = np.max(modulation) / np.mean(modulation)\n"
     ]
    },
    {
     "name": "stdout",
     "output_type": "stream",
     "text": [
      "Processing file: 80-MFCC.csv\n"
     ]
    },
    {
     "name": "stderr",
     "output_type": "stream",
     "text": [
      "d:\\MY FILES\\IITB\\Sem 3\\DS203\\env\\Lib\\site-packages\\scipy\\signal\\_spectral_py.py:600: UserWarning: nperseg = 256 is greater than input length  = 19, using nperseg = 19\n",
      "  freqs, _, Pxy = _spectral_helper(x, y, fs, window, nperseg, noverlap,\n"
     ]
    },
    {
     "name": "stdout",
     "output_type": "stream",
     "text": [
      "Processing file: 81-MFCC.csv\n"
     ]
    },
    {
     "name": "stderr",
     "output_type": "stream",
     "text": [
      "d:\\MY FILES\\IITB\\Sem 3\\DS203\\env\\Lib\\site-packages\\numpy\\_core\\_methods.py:218: RuntimeWarning: Degrees of freedom <= 0 for slice\n",
      "  ret = _var(a, axis=axis, dtype=dtype, out=out, ddof=ddof,\n",
      "d:\\MY FILES\\IITB\\Sem 3\\DS203\\env\\Lib\\site-packages\\numpy\\_core\\_methods.py:175: RuntimeWarning: invalid value encountered in divide\n",
      "  arrmean = um.true_divide(arrmean, div, out=arrmean,\n",
      "d:\\MY FILES\\IITB\\Sem 3\\DS203\\env\\Lib\\site-packages\\numpy\\_core\\_methods.py:210: RuntimeWarning: invalid value encountered in scalar divide\n",
      "  ret = ret.dtype.type(ret / rcount)\n",
      "d:\\MY FILES\\IITB\\Sem 3\\DS203\\env\\Lib\\site-packages\\scipy\\signal\\_spectral_py.py:600: UserWarning: nperseg = 256 is greater than input length  = 19, using nperseg = 19\n",
      "  freqs, _, Pxy = _spectral_helper(x, y, fs, window, nperseg, noverlap,\n"
     ]
    },
    {
     "name": "stdout",
     "output_type": "stream",
     "text": [
      "Processing file: 82-MFCC.csv\n"
     ]
    },
    {
     "name": "stderr",
     "output_type": "stream",
     "text": [
      "d:\\MY FILES\\IITB\\Sem 3\\DS203\\env\\Lib\\site-packages\\numpy\\_core\\_methods.py:218: RuntimeWarning: Degrees of freedom <= 0 for slice\n",
      "  ret = _var(a, axis=axis, dtype=dtype, out=out, ddof=ddof,\n",
      "d:\\MY FILES\\IITB\\Sem 3\\DS203\\env\\Lib\\site-packages\\numpy\\_core\\_methods.py:175: RuntimeWarning: invalid value encountered in divide\n",
      "  arrmean = um.true_divide(arrmean, div, out=arrmean,\n",
      "d:\\MY FILES\\IITB\\Sem 3\\DS203\\env\\Lib\\site-packages\\numpy\\_core\\_methods.py:210: RuntimeWarning: invalid value encountered in scalar divide\n",
      "  ret = ret.dtype.type(ret / rcount)\n",
      "d:\\MY FILES\\IITB\\Sem 3\\DS203\\env\\Lib\\site-packages\\scipy\\signal\\_spectral_py.py:600: UserWarning: nperseg = 256 is greater than input length  = 19, using nperseg = 19\n",
      "  freqs, _, Pxy = _spectral_helper(x, y, fs, window, nperseg, noverlap,\n"
     ]
    },
    {
     "name": "stdout",
     "output_type": "stream",
     "text": [
      "Processing file: 83-MFCC.csv\n"
     ]
    },
    {
     "name": "stderr",
     "output_type": "stream",
     "text": [
      "d:\\MY FILES\\IITB\\Sem 3\\DS203\\env\\Lib\\site-packages\\scipy\\signal\\_spectral_py.py:600: UserWarning: nperseg = 256 is greater than input length  = 19, using nperseg = 19\n",
      "  freqs, _, Pxy = _spectral_helper(x, y, fs, window, nperseg, noverlap,\n"
     ]
    },
    {
     "name": "stdout",
     "output_type": "stream",
     "text": [
      "Processing file: 84-MFCC.csv\n"
     ]
    },
    {
     "name": "stderr",
     "output_type": "stream",
     "text": [
      "d:\\MY FILES\\IITB\\Sem 3\\DS203\\env\\Lib\\site-packages\\numpy\\_core\\_methods.py:218: RuntimeWarning: Degrees of freedom <= 0 for slice\n",
      "  ret = _var(a, axis=axis, dtype=dtype, out=out, ddof=ddof,\n",
      "d:\\MY FILES\\IITB\\Sem 3\\DS203\\env\\Lib\\site-packages\\numpy\\_core\\_methods.py:175: RuntimeWarning: invalid value encountered in divide\n",
      "  arrmean = um.true_divide(arrmean, div, out=arrmean,\n",
      "d:\\MY FILES\\IITB\\Sem 3\\DS203\\env\\Lib\\site-packages\\numpy\\_core\\_methods.py:210: RuntimeWarning: invalid value encountered in scalar divide\n",
      "  ret = ret.dtype.type(ret / rcount)\n",
      "d:\\MY FILES\\IITB\\Sem 3\\DS203\\env\\Lib\\site-packages\\scipy\\signal\\_spectral_py.py:600: UserWarning: nperseg = 256 is greater than input length  = 19, using nperseg = 19\n",
      "  freqs, _, Pxy = _spectral_helper(x, y, fs, window, nperseg, noverlap,\n"
     ]
    },
    {
     "name": "stdout",
     "output_type": "stream",
     "text": [
      "Processing file: 85-MFCC.csv\n"
     ]
    },
    {
     "name": "stderr",
     "output_type": "stream",
     "text": [
      "d:\\MY FILES\\IITB\\Sem 3\\DS203\\env\\Lib\\site-packages\\statsmodels\\tsa\\stattools.py:693: RuntimeWarning: invalid value encountered in divide\n",
      "  acf = avf[: nlags + 1] / avf[0]\n",
      "d:\\MY FILES\\IITB\\Sem 3\\DS203\\env\\Lib\\site-packages\\scipy\\signal\\_spectral_py.py:600: UserWarning: nperseg = 256 is greater than input length  = 19, using nperseg = 19\n",
      "  freqs, _, Pxy = _spectral_helper(x, y, fs, window, nperseg, noverlap,\n",
      "C:\\Users\\Ronak\\AppData\\Local\\Temp\\ipykernel_32476\\376018993.py:201: RuntimeWarning: invalid value encountered in scalar divide\n",
      "  clarity_score = np.mean(np.abs(transitions)) / np.std(transitions)\n",
      "C:\\Users\\Ronak\\AppData\\Local\\Temp\\ipykernel_32476\\376018993.py:230: RuntimeWarning: invalid value encountered in scalar divide\n",
      "  emotional_range = np.max(modulation) / np.mean(modulation)\n"
     ]
    },
    {
     "name": "stdout",
     "output_type": "stream",
     "text": [
      "Processing file: 86-MFCC.csv\n"
     ]
    },
    {
     "name": "stderr",
     "output_type": "stream",
     "text": [
      "d:\\MY FILES\\IITB\\Sem 3\\DS203\\env\\Lib\\site-packages\\numpy\\_core\\_methods.py:218: RuntimeWarning: Degrees of freedom <= 0 for slice\n",
      "  ret = _var(a, axis=axis, dtype=dtype, out=out, ddof=ddof,\n",
      "d:\\MY FILES\\IITB\\Sem 3\\DS203\\env\\Lib\\site-packages\\numpy\\_core\\_methods.py:175: RuntimeWarning: invalid value encountered in divide\n",
      "  arrmean = um.true_divide(arrmean, div, out=arrmean,\n",
      "d:\\MY FILES\\IITB\\Sem 3\\DS203\\env\\Lib\\site-packages\\numpy\\_core\\_methods.py:210: RuntimeWarning: invalid value encountered in scalar divide\n",
      "  ret = ret.dtype.type(ret / rcount)\n",
      "d:\\MY FILES\\IITB\\Sem 3\\DS203\\env\\Lib\\site-packages\\scipy\\signal\\_spectral_py.py:600: UserWarning: nperseg = 256 is greater than input length  = 19, using nperseg = 19\n",
      "  freqs, _, Pxy = _spectral_helper(x, y, fs, window, nperseg, noverlap,\n"
     ]
    },
    {
     "name": "stdout",
     "output_type": "stream",
     "text": [
      "Processing file: 87-MFCC.csv\n"
     ]
    },
    {
     "name": "stderr",
     "output_type": "stream",
     "text": [
      "d:\\MY FILES\\IITB\\Sem 3\\DS203\\env\\Lib\\site-packages\\scipy\\signal\\_spectral_py.py:600: UserWarning: nperseg = 256 is greater than input length  = 19, using nperseg = 19\n",
      "  freqs, _, Pxy = _spectral_helper(x, y, fs, window, nperseg, noverlap,\n"
     ]
    },
    {
     "name": "stdout",
     "output_type": "stream",
     "text": [
      "Processing file: 88-MFCC.csv\n"
     ]
    },
    {
     "name": "stderr",
     "output_type": "stream",
     "text": [
      "d:\\MY FILES\\IITB\\Sem 3\\DS203\\env\\Lib\\site-packages\\statsmodels\\tsa\\stattools.py:693: RuntimeWarning: invalid value encountered in divide\n",
      "  acf = avf[: nlags + 1] / avf[0]\n",
      "d:\\MY FILES\\IITB\\Sem 3\\DS203\\env\\Lib\\site-packages\\scipy\\signal\\_spectral_py.py:600: UserWarning: nperseg = 256 is greater than input length  = 19, using nperseg = 19\n",
      "  freqs, _, Pxy = _spectral_helper(x, y, fs, window, nperseg, noverlap,\n",
      "C:\\Users\\Ronak\\AppData\\Local\\Temp\\ipykernel_32476\\376018993.py:201: RuntimeWarning: invalid value encountered in scalar divide\n",
      "  clarity_score = np.mean(np.abs(transitions)) / np.std(transitions)\n",
      "C:\\Users\\Ronak\\AppData\\Local\\Temp\\ipykernel_32476\\376018993.py:230: RuntimeWarning: invalid value encountered in scalar divide\n",
      "  emotional_range = np.max(modulation) / np.mean(modulation)\n"
     ]
    },
    {
     "name": "stdout",
     "output_type": "stream",
     "text": [
      "Processing file: 89-MFCC.csv\n"
     ]
    },
    {
     "name": "stderr",
     "output_type": "stream",
     "text": [
      "d:\\MY FILES\\IITB\\Sem 3\\DS203\\env\\Lib\\site-packages\\statsmodels\\tsa\\stattools.py:693: RuntimeWarning: invalid value encountered in divide\n",
      "  acf = avf[: nlags + 1] / avf[0]\n",
      "d:\\MY FILES\\IITB\\Sem 3\\DS203\\env\\Lib\\site-packages\\scipy\\signal\\_spectral_py.py:600: UserWarning: nperseg = 256 is greater than input length  = 19, using nperseg = 19\n",
      "  freqs, _, Pxy = _spectral_helper(x, y, fs, window, nperseg, noverlap,\n",
      "C:\\Users\\Ronak\\AppData\\Local\\Temp\\ipykernel_32476\\376018993.py:201: RuntimeWarning: invalid value encountered in scalar divide\n",
      "  clarity_score = np.mean(np.abs(transitions)) / np.std(transitions)\n",
      "C:\\Users\\Ronak\\AppData\\Local\\Temp\\ipykernel_32476\\376018993.py:230: RuntimeWarning: invalid value encountered in scalar divide\n",
      "  emotional_range = np.max(modulation) / np.mean(modulation)\n"
     ]
    },
    {
     "name": "stdout",
     "output_type": "stream",
     "text": [
      "Processing file: 90-MFCC.csv\n"
     ]
    },
    {
     "name": "stderr",
     "output_type": "stream",
     "text": [
      "d:\\MY FILES\\IITB\\Sem 3\\DS203\\env\\Lib\\site-packages\\numpy\\_core\\_methods.py:218: RuntimeWarning: Degrees of freedom <= 0 for slice\n",
      "  ret = _var(a, axis=axis, dtype=dtype, out=out, ddof=ddof,\n",
      "d:\\MY FILES\\IITB\\Sem 3\\DS203\\env\\Lib\\site-packages\\numpy\\_core\\_methods.py:175: RuntimeWarning: invalid value encountered in divide\n",
      "  arrmean = um.true_divide(arrmean, div, out=arrmean,\n",
      "d:\\MY FILES\\IITB\\Sem 3\\DS203\\env\\Lib\\site-packages\\numpy\\_core\\_methods.py:210: RuntimeWarning: invalid value encountered in scalar divide\n",
      "  ret = ret.dtype.type(ret / rcount)\n",
      "d:\\MY FILES\\IITB\\Sem 3\\DS203\\env\\Lib\\site-packages\\scipy\\signal\\_spectral_py.py:600: UserWarning: nperseg = 256 is greater than input length  = 19, using nperseg = 19\n",
      "  freqs, _, Pxy = _spectral_helper(x, y, fs, window, nperseg, noverlap,\n"
     ]
    },
    {
     "name": "stdout",
     "output_type": "stream",
     "text": [
      "Processing file: 91-MFCC.csv\n"
     ]
    },
    {
     "name": "stderr",
     "output_type": "stream",
     "text": [
      "d:\\MY FILES\\IITB\\Sem 3\\DS203\\env\\Lib\\site-packages\\statsmodels\\tsa\\stattools.py:693: RuntimeWarning: invalid value encountered in divide\n",
      "  acf = avf[: nlags + 1] / avf[0]\n",
      "d:\\MY FILES\\IITB\\Sem 3\\DS203\\env\\Lib\\site-packages\\scipy\\signal\\_spectral_py.py:600: UserWarning: nperseg = 256 is greater than input length  = 19, using nperseg = 19\n",
      "  freqs, _, Pxy = _spectral_helper(x, y, fs, window, nperseg, noverlap,\n",
      "C:\\Users\\Ronak\\AppData\\Local\\Temp\\ipykernel_32476\\376018993.py:201: RuntimeWarning: invalid value encountered in scalar divide\n",
      "  clarity_score = np.mean(np.abs(transitions)) / np.std(transitions)\n",
      "C:\\Users\\Ronak\\AppData\\Local\\Temp\\ipykernel_32476\\376018993.py:230: RuntimeWarning: invalid value encountered in scalar divide\n",
      "  emotional_range = np.max(modulation) / np.mean(modulation)\n"
     ]
    },
    {
     "name": "stdout",
     "output_type": "stream",
     "text": [
      "Processing file: 92-MFCC.csv\n"
     ]
    },
    {
     "name": "stderr",
     "output_type": "stream",
     "text": [
      "d:\\MY FILES\\IITB\\Sem 3\\DS203\\env\\Lib\\site-packages\\statsmodels\\tsa\\stattools.py:693: RuntimeWarning: invalid value encountered in divide\n",
      "  acf = avf[: nlags + 1] / avf[0]\n",
      "d:\\MY FILES\\IITB\\Sem 3\\DS203\\env\\Lib\\site-packages\\scipy\\signal\\_spectral_py.py:600: UserWarning: nperseg = 256 is greater than input length  = 19, using nperseg = 19\n",
      "  freqs, _, Pxy = _spectral_helper(x, y, fs, window, nperseg, noverlap,\n",
      "C:\\Users\\Ronak\\AppData\\Local\\Temp\\ipykernel_32476\\376018993.py:201: RuntimeWarning: invalid value encountered in scalar divide\n",
      "  clarity_score = np.mean(np.abs(transitions)) / np.std(transitions)\n",
      "C:\\Users\\Ronak\\AppData\\Local\\Temp\\ipykernel_32476\\376018993.py:230: RuntimeWarning: invalid value encountered in scalar divide\n",
      "  emotional_range = np.max(modulation) / np.mean(modulation)\n"
     ]
    },
    {
     "name": "stdout",
     "output_type": "stream",
     "text": [
      "Processing file: 93-MFCC.csv\n"
     ]
    },
    {
     "name": "stderr",
     "output_type": "stream",
     "text": [
      "d:\\MY FILES\\IITB\\Sem 3\\DS203\\env\\Lib\\site-packages\\numpy\\_core\\_methods.py:218: RuntimeWarning: Degrees of freedom <= 0 for slice\n",
      "  ret = _var(a, axis=axis, dtype=dtype, out=out, ddof=ddof,\n",
      "d:\\MY FILES\\IITB\\Sem 3\\DS203\\env\\Lib\\site-packages\\numpy\\_core\\_methods.py:175: RuntimeWarning: invalid value encountered in divide\n",
      "  arrmean = um.true_divide(arrmean, div, out=arrmean,\n",
      "d:\\MY FILES\\IITB\\Sem 3\\DS203\\env\\Lib\\site-packages\\numpy\\_core\\_methods.py:210: RuntimeWarning: invalid value encountered in scalar divide\n",
      "  ret = ret.dtype.type(ret / rcount)\n",
      "d:\\MY FILES\\IITB\\Sem 3\\DS203\\env\\Lib\\site-packages\\scipy\\signal\\_spectral_py.py:600: UserWarning: nperseg = 256 is greater than input length  = 19, using nperseg = 19\n",
      "  freqs, _, Pxy = _spectral_helper(x, y, fs, window, nperseg, noverlap,\n"
     ]
    },
    {
     "name": "stdout",
     "output_type": "stream",
     "text": [
      "Processing file: 94-MFCC.csv\n"
     ]
    },
    {
     "name": "stderr",
     "output_type": "stream",
     "text": [
      "d:\\MY FILES\\IITB\\Sem 3\\DS203\\env\\Lib\\site-packages\\statsmodels\\tsa\\stattools.py:693: RuntimeWarning: invalid value encountered in divide\n",
      "  acf = avf[: nlags + 1] / avf[0]\n",
      "d:\\MY FILES\\IITB\\Sem 3\\DS203\\env\\Lib\\site-packages\\scipy\\signal\\_spectral_py.py:600: UserWarning: nperseg = 256 is greater than input length  = 19, using nperseg = 19\n",
      "  freqs, _, Pxy = _spectral_helper(x, y, fs, window, nperseg, noverlap,\n",
      "C:\\Users\\Ronak\\AppData\\Local\\Temp\\ipykernel_32476\\376018993.py:201: RuntimeWarning: invalid value encountered in scalar divide\n",
      "  clarity_score = np.mean(np.abs(transitions)) / np.std(transitions)\n",
      "C:\\Users\\Ronak\\AppData\\Local\\Temp\\ipykernel_32476\\376018993.py:230: RuntimeWarning: invalid value encountered in scalar divide\n",
      "  emotional_range = np.max(modulation) / np.mean(modulation)\n"
     ]
    },
    {
     "name": "stdout",
     "output_type": "stream",
     "text": [
      "Processing file: 95-MFCC.csv\n"
     ]
    },
    {
     "name": "stderr",
     "output_type": "stream",
     "text": [
      "d:\\MY FILES\\IITB\\Sem 3\\DS203\\env\\Lib\\site-packages\\scipy\\signal\\_spectral_py.py:600: UserWarning: nperseg = 256 is greater than input length  = 19, using nperseg = 19\n",
      "  freqs, _, Pxy = _spectral_helper(x, y, fs, window, nperseg, noverlap,\n"
     ]
    },
    {
     "name": "stdout",
     "output_type": "stream",
     "text": [
      "Processing file: 96-MFCC.csv\n"
     ]
    },
    {
     "name": "stderr",
     "output_type": "stream",
     "text": [
      "d:\\MY FILES\\IITB\\Sem 3\\DS203\\env\\Lib\\site-packages\\numpy\\_core\\_methods.py:218: RuntimeWarning: Degrees of freedom <= 0 for slice\n",
      "  ret = _var(a, axis=axis, dtype=dtype, out=out, ddof=ddof,\n",
      "d:\\MY FILES\\IITB\\Sem 3\\DS203\\env\\Lib\\site-packages\\numpy\\_core\\_methods.py:175: RuntimeWarning: invalid value encountered in divide\n",
      "  arrmean = um.true_divide(arrmean, div, out=arrmean,\n",
      "d:\\MY FILES\\IITB\\Sem 3\\DS203\\env\\Lib\\site-packages\\numpy\\_core\\_methods.py:210: RuntimeWarning: invalid value encountered in scalar divide\n",
      "  ret = ret.dtype.type(ret / rcount)\n",
      "d:\\MY FILES\\IITB\\Sem 3\\DS203\\env\\Lib\\site-packages\\scipy\\signal\\_spectral_py.py:600: UserWarning: nperseg = 256 is greater than input length  = 19, using nperseg = 19\n",
      "  freqs, _, Pxy = _spectral_helper(x, y, fs, window, nperseg, noverlap,\n"
     ]
    },
    {
     "name": "stdout",
     "output_type": "stream",
     "text": [
      "Processing file: 97-MFCC.csv\n"
     ]
    },
    {
     "name": "stderr",
     "output_type": "stream",
     "text": [
      "d:\\MY FILES\\IITB\\Sem 3\\DS203\\env\\Lib\\site-packages\\scipy\\signal\\_spectral_py.py:600: UserWarning: nperseg = 256 is greater than input length  = 19, using nperseg = 19\n",
      "  freqs, _, Pxy = _spectral_helper(x, y, fs, window, nperseg, noverlap,\n"
     ]
    },
    {
     "name": "stdout",
     "output_type": "stream",
     "text": [
      "Processing file: 98-MFCC.csv\n"
     ]
    },
    {
     "name": "stderr",
     "output_type": "stream",
     "text": [
      "d:\\MY FILES\\IITB\\Sem 3\\DS203\\env\\Lib\\site-packages\\numpy\\_core\\_methods.py:218: RuntimeWarning: Degrees of freedom <= 0 for slice\n",
      "  ret = _var(a, axis=axis, dtype=dtype, out=out, ddof=ddof,\n",
      "d:\\MY FILES\\IITB\\Sem 3\\DS203\\env\\Lib\\site-packages\\numpy\\_core\\_methods.py:175: RuntimeWarning: invalid value encountered in divide\n",
      "  arrmean = um.true_divide(arrmean, div, out=arrmean,\n",
      "d:\\MY FILES\\IITB\\Sem 3\\DS203\\env\\Lib\\site-packages\\numpy\\_core\\_methods.py:210: RuntimeWarning: invalid value encountered in scalar divide\n",
      "  ret = ret.dtype.type(ret / rcount)\n",
      "d:\\MY FILES\\IITB\\Sem 3\\DS203\\env\\Lib\\site-packages\\scipy\\signal\\_spectral_py.py:600: UserWarning: nperseg = 256 is greater than input length  = 19, using nperseg = 19\n",
      "  freqs, _, Pxy = _spectral_helper(x, y, fs, window, nperseg, noverlap,\n"
     ]
    },
    {
     "name": "stdout",
     "output_type": "stream",
     "text": [
      "Processing file: 99-MFCC.csv\n",
      "All features saved to MFCC-files-features.csv\n"
     ]
    },
    {
     "name": "stderr",
     "output_type": "stream",
     "text": [
      "d:\\MY FILES\\IITB\\Sem 3\\DS203\\env\\Lib\\site-packages\\statsmodels\\tsa\\stattools.py:693: RuntimeWarning: invalid value encountered in divide\n",
      "  acf = avf[: nlags + 1] / avf[0]\n",
      "d:\\MY FILES\\IITB\\Sem 3\\DS203\\env\\Lib\\site-packages\\scipy\\signal\\_spectral_py.py:600: UserWarning: nperseg = 256 is greater than input length  = 19, using nperseg = 19\n",
      "  freqs, _, Pxy = _spectral_helper(x, y, fs, window, nperseg, noverlap,\n",
      "C:\\Users\\Ronak\\AppData\\Local\\Temp\\ipykernel_32476\\376018993.py:201: RuntimeWarning: invalid value encountered in scalar divide\n",
      "  clarity_score = np.mean(np.abs(transitions)) / np.std(transitions)\n",
      "C:\\Users\\Ronak\\AppData\\Local\\Temp\\ipykernel_32476\\376018993.py:230: RuntimeWarning: invalid value encountered in scalar divide\n",
      "  emotional_range = np.max(modulation) / np.mean(modulation)\n"
     ]
    }
   ],
   "source": [
    "def extract_features_from_csv(csv_file):\n",
    "    # Load the MFCC data from the CSV file\n",
    "    data = pd.read_csv(csv_file)\n",
    "    # Assuming that the MFCC matrix is stored in columns 0 to 19\n",
    "    mfcc_matrix = data.iloc[:, :20].values  # Transpose to match the expected shape (MFCC x Time)\n",
    "    \n",
    "    # Extract features using the defined functions\n",
    "    all_features = []\n",
    "    all_names = []\n",
    "    \n",
    "    # Call the feature extraction functions\n",
    "    features, names = extract_melodic_progression_features(mfcc_matrix)\n",
    "    all_features.extend(features)\n",
    "    all_names.extend(names)\n",
    "    \n",
    "    features, names = extract_cultural_rhythm_features(mfcc_matrix)\n",
    "    all_features.extend(features)\n",
    "    all_names.extend(names)\n",
    "    \n",
    "    features, names = extract_vocal_ornament_features(mfcc_matrix)\n",
    "    all_features.extend(features)\n",
    "    all_names.extend(names)\n",
    "    \n",
    "    features, names = extract_production_style_features(mfcc_matrix)\n",
    "    all_features.extend(features)\n",
    "    all_names.extend(names)\n",
    "    \n",
    "    features, names = extract_ensemble_features(mfcc_matrix)\n",
    "    all_features.extend(features)\n",
    "    all_names.extend(names)\n",
    "    \n",
    "    # Additional custom feature extraction for different types\n",
    "    features, names = extract_national_anthem_features(mfcc_matrix)\n",
    "    all_features.extend(features)\n",
    "    all_names.extend(names)\n",
    "    \n",
    "    features, names = extract_bhav_geet_features(mfcc_matrix)\n",
    "    all_features.extend(features)\n",
    "    all_names.extend(names)\n",
    "    \n",
    "    features, names = extract_lavni_features(mfcc_matrix)\n",
    "    all_features.extend(features)\n",
    "    all_names.extend(names)\n",
    "    \n",
    "    features, names = extract_singer_specific_features(mfcc_matrix)\n",
    "    all_features.extend(features)\n",
    "    all_names.extend(names)\n",
    "    \n",
    "    features, names = extract_western_music_features(mfcc_matrix)\n",
    "    all_features.extend(features)\n",
    "    all_names.extend(names)\n",
    "    \n",
    "    return all_features, all_names\n",
    "\n",
    "def process_all_files_in_folder(folder_path, output_csv):\n",
    "    all_data = []\n",
    "    \n",
    "    for filename in os.listdir(folder_path):\n",
    "        if filename.endswith(\".csv\"):\n",
    "            file_path = os.path.join(folder_path, filename)\n",
    "            print(f\"Processing file: {filename}\")\n",
    "            \n",
    "            # Extract features for the current file\n",
    "            features, feature_names = extract_features_from_csv(file_path)\n",
    "            \n",
    "            # Create a row for the current file's features\n",
    "            row = features\n",
    "            row.append(filename)  # Add filename as an identifier for the file\n",
    "            \n",
    "            all_data.append(row)\n",
    "    \n",
    "    # Convert the list of all data to a DataFrame\n",
    "    feature_df = pd.DataFrame(all_data, columns=feature_names + ['filename'])\n",
    "    \n",
    "    # Save the DataFrame to the output CSV\n",
    "    feature_df.to_csv(output_csv, index=False)\n",
    "    print(f\"All features saved to {output_csv}\")\n",
    "\n",
    "# Example usage\n",
    "folder_path = 'MFCC-files/'\n",
    "output_csv = 'MFCC-files-features.csv'\n",
    "process_all_files_in_folder(folder_path, output_csv)"
   ]
  }
 ],
 "metadata": {
  "kernelspec": {
   "display_name": "env",
   "language": "python",
   "name": "python3"
  },
  "language_info": {
   "codemirror_mode": {
    "name": "ipython",
    "version": 3
   },
   "file_extension": ".py",
   "mimetype": "text/x-python",
   "name": "python",
   "nbconvert_exporter": "python",
   "pygments_lexer": "ipython3",
   "version": "3.12.1"
  }
 },
 "nbformat": 4,
 "nbformat_minor": 2
}
